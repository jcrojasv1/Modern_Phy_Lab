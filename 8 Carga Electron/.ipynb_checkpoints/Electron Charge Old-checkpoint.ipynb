{
 "cells": [
  {
   "cell_type": "code",
   "execution_count": 167,
   "id": "b565fb6f",
   "metadata": {},
   "outputs": [],
   "source": [
    "import pandas as pd\n",
    "import numpy as np\n",
    "import sympy as sym\n",
    "from scipy import constants\n",
    "import matplotlib.pyplot as plt\n",
    "from scipy import optimize"
   ]
  },
  {
   "cell_type": "code",
   "execution_count": 168,
   "id": "b15db78f",
   "metadata": {},
   "outputs": [
    {
     "data": {
      "text/html": [
       "<div>\n",
       "<style scoped>\n",
       "    .dataframe tbody tr th:only-of-type {\n",
       "        vertical-align: middle;\n",
       "    }\n",
       "\n",
       "    .dataframe tbody tr th {\n",
       "        vertical-align: top;\n",
       "    }\n",
       "\n",
       "    .dataframe thead th {\n",
       "        text-align: right;\n",
       "    }\n",
       "</style>\n",
       "<table border=\"1\" class=\"dataframe\">\n",
       "  <thead>\n",
       "    <tr style=\"text-align: right;\">\n",
       "      <th></th>\n",
       "      <th>n</th>\n",
       "      <th>300</th>\n",
       "      <th>320</th>\n",
       "      <th>340</th>\n",
       "      <th>360</th>\n",
       "      <th>380</th>\n",
       "      <th>400</th>\n",
       "      <th>420</th>\n",
       "      <th>440</th>\n",
       "      <th>460</th>\n",
       "      <th>480</th>\n",
       "      <th>500</th>\n",
       "      <th>520</th>\n",
       "      <th>540</th>\n",
       "      <th>560</th>\n",
       "      <th>580</th>\n",
       "      <th>600</th>\n",
       "    </tr>\n",
       "  </thead>\n",
       "  <tbody>\n",
       "    <tr>\n",
       "      <th>0</th>\n",
       "      <td>1</td>\n",
       "      <td>1.10</td>\n",
       "      <td>1.09</td>\n",
       "      <td>1.12</td>\n",
       "      <td>1.12</td>\n",
       "      <td>1.19</td>\n",
       "      <td>1.23</td>\n",
       "      <td>1.21</td>\n",
       "      <td>1.28</td>\n",
       "      <td>1.30</td>\n",
       "      <td>1.42</td>\n",
       "      <td>1.40</td>\n",
       "      <td>1.42</td>\n",
       "      <td>1.49</td>\n",
       "      <td>1.52</td>\n",
       "      <td>1.54</td>\n",
       "      <td>1.54</td>\n",
       "    </tr>\n",
       "    <tr>\n",
       "      <th>1</th>\n",
       "      <td>2</td>\n",
       "      <td>1.95</td>\n",
       "      <td>2.00</td>\n",
       "      <td>2.05</td>\n",
       "      <td>2.08</td>\n",
       "      <td>2.17</td>\n",
       "      <td>2.26</td>\n",
       "      <td>2.37</td>\n",
       "      <td>2.37</td>\n",
       "      <td>2.44</td>\n",
       "      <td>2.48</td>\n",
       "      <td>2.54</td>\n",
       "      <td>2.60</td>\n",
       "      <td>2.65</td>\n",
       "      <td>2.68</td>\n",
       "      <td>2.75</td>\n",
       "      <td>2.78</td>\n",
       "    </tr>\n",
       "    <tr>\n",
       "      <th>2</th>\n",
       "      <td>3</td>\n",
       "      <td>2.74</td>\n",
       "      <td>2.85</td>\n",
       "      <td>2.91</td>\n",
       "      <td>2.96</td>\n",
       "      <td>3.04</td>\n",
       "      <td>3.18</td>\n",
       "      <td>3.23</td>\n",
       "      <td>3.34</td>\n",
       "      <td>3.37</td>\n",
       "      <td>3.48</td>\n",
       "      <td>3.56</td>\n",
       "      <td>3.61</td>\n",
       "      <td>3.69</td>\n",
       "      <td>3.74</td>\n",
       "      <td>3.85</td>\n",
       "      <td>3.87</td>\n",
       "    </tr>\n",
       "  </tbody>\n",
       "</table>\n",
       "</div>"
      ],
      "text/plain": [
       "   n   300   320   340   360   380   400   420   440   460   480   500   520  \\\n",
       "0  1  1.10  1.09  1.12  1.12  1.19  1.23  1.21  1.28  1.30  1.42  1.40  1.42   \n",
       "1  2  1.95  2.00  2.05  2.08  2.17  2.26  2.37  2.37  2.44  2.48  2.54  2.60   \n",
       "2  3  2.74  2.85  2.91  2.96  3.04  3.18  3.23  3.34  3.37  3.48  3.56  3.61   \n",
       "\n",
       "    540   560   580   600  \n",
       "0  1.49  1.52  1.54  1.54  \n",
       "1  2.65  2.68  2.75  2.78  \n",
       "2  3.69  3.74  3.85  3.87  "
      ]
     },
     "execution_count": 168,
     "metadata": {},
     "output_type": "execute_result"
    }
   ],
   "source": [
    "path = \"C:/Users/Darck/Modern_Phy_Lab/8 Carga Electron/Data/Main_Data.csv\"\n",
    "\n",
    "data = pd.read_csv(path, sep = \";\")\n",
    "data"
   ]
  },
  {
   "cell_type": "code",
   "execution_count": 169,
   "id": "acaf6325",
   "metadata": {},
   "outputs": [],
   "source": [
    "Voltage = np.array([300, 320, 340, 360, 380, 400, 420, 440, 460, 480, 500, 520, 540, 560, 580, 600])"
   ]
  },
  {
   "cell_type": "code",
   "execution_count": 170,
   "id": "d4962509",
   "metadata": {},
   "outputs": [
    {
     "data": {
      "text/plain": [
       "(array([1.1 , 1.09, 1.12, 1.12, 1.19, 1.23, 1.21, 1.28, 1.3 , 1.42, 1.4 ,\n",
       "        1.42, 1.49, 1.52, 1.54, 1.54]),\n",
       " array([1.95, 2.  , 2.05, 2.08, 2.17, 2.26, 2.37, 2.37, 2.44, 2.48, 2.54,\n",
       "        2.6 , 2.65, 2.68, 2.75, 2.78]),\n",
       " array([2.74, 2.85, 2.91, 2.96, 3.04, 3.18, 3.23, 3.34, 3.37, 3.48, 3.56,\n",
       "        3.61, 3.69, 3.74, 3.85, 3.87]))"
      ]
     },
     "execution_count": 170,
     "metadata": {},
     "output_type": "execute_result"
    }
   ],
   "source": [
    "I1 = np.array([])\n",
    "I2 = np.array([])\n",
    "I3 = np.array([])\n",
    "\n",
    "for i in Voltage:\n",
    "    I1 = np.append(data[str(i)][0], I1)\n",
    "    I2 = np.append(data[str(i)][1], I2)\n",
    "    I3 = np.append(data[str(i)][2], I3)\n",
    "    \n",
    "I1 = I1[::-1]\n",
    "I2 = I2[::-1]\n",
    "I3 = I3[::-1]\n",
    "    \n",
    "I1, I2, I3"
   ]
  },
  {
   "cell_type": "code",
   "execution_count": 171,
   "id": "e7634e63",
   "metadata": {},
   "outputs": [],
   "source": [
    "def GetRegression(x,y):\n",
    "    m,b = np.polyfit(x,y,1)\n",
    "    X = np.linspace(min(x),max(x),100)\n",
    "    Y = m*X + b\n",
    "    return X,Y,m,b\n",
    "\n",
    "def GetR2(m, b, x, y):\n",
    "    # Cálculo de la \"bondad\" del ajuste con base en el parámetro R^2:\n",
    "    mean_y = np.sum(y)/len(y)\n",
    "    reg_y = m*x + b\n",
    "    SS_res = np.sum((y - reg_y)**2)\n",
    "    SS_tot = np.sum((y - mean_y)**2)\n",
    "    Rp2 = 1 - SS_res/SS_tot\n",
    "    return Rp2\n",
    "\n",
    "def GetPropagation(expr,vars,sigmas,measures):\n",
    "    prop = 0\n",
    "    for i in range(len(measures)):\n",
    "        prop += expr.diff(var[i])**2 * sigmas[i]**2\n",
    "    \n",
    "    sigma = sym.sqrt(prop)\n",
    "    #Sección para soltar el valor calculado y la incertidumbre del valor calculado. \n",
    "\n",
    "    sigma = sym.lambdify(var,sigma)\n",
    "    mean = sym.lambdify(var,exp)\n",
    "    return mean(*measures),sigma(*measures)\n",
    "\n",
    "def New_Inc(inc1, inc2):\n",
    "    return np.sqrt(inc1**2 + inc2**2)\n",
    "\n",
    "lenght_inc = 0.0005\n",
    "current_inc = 0.01"
   ]
  },
  {
   "cell_type": "code",
   "execution_count": 172,
   "id": "9860578a",
   "metadata": {},
   "outputs": [
    {
     "data": {
      "text/plain": [
       "(0.004504624999999999, -0.2836499999999995, 0.9659)"
      ]
     },
     "execution_count": 172,
     "metadata": {},
     "output_type": "execute_result"
    }
   ],
   "source": [
    "_V1, _I1, mI1, bI1 = GetRegression(Voltage, I1**2)\n",
    "R2_I1 = round(GetR2(mI1, bI1, Voltage, I1**2), 4)\n",
    "mI1, bI1, R2_I1"
   ]
  },
  {
   "cell_type": "code",
   "execution_count": 173,
   "id": "26a532cf",
   "metadata": {},
   "outputs": [
    {
     "data": {
      "image/png": "[encoded data removed]",
      "text/plain": [
       "<Figure size 792x576 with 1 Axes>"
      ]
     },
     "metadata": {
      "needs_background": "light"
     },
     "output_type": "display_data"
    }
   ],
   "source": [
    "plt.figure(figsize = (11, 8))\n",
    "plt.scatter(Voltage, I1**2)\n",
    "plt.plot(_V1, _I1, color = \"red\")\n",
    "plt.text(500, 1.6,r\"$R^2 = %s$\"%(R2_I1), color = 'r', fontsize = 20)\n",
    "plt.ylabel(r\"$I^{2}$ [A]\", fontsize = 20)\n",
    "plt.xlabel(\"Voltaje [V]\", fontsize = 20)\n",
    "plt.grid()\n",
    "plt.savefig(\"Value 1.pdf\")"
   ]
  },
  {
   "cell_type": "code",
   "execution_count": 174,
   "id": "6d10b9e5",
   "metadata": {},
   "outputs": [
    {
     "data": {
      "text/plain": [
       "(0.013622036764705879, -0.3678477941176479, 0.9939)"
      ]
     },
     "execution_count": 174,
     "metadata": {},
     "output_type": "execute_result"
    }
   ],
   "source": [
    "_V2, _I2, mI2, bI2 = GetRegression(Voltage, I2**2)\n",
    "R2_I2 = round(GetR2(mI2, bI2, Voltage, I2**2), 4)\n",
    "mI2, bI2, R2_I2"
   ]
  },
  {
   "cell_type": "code",
   "execution_count": 175,
   "id": "6ec8dd0d",
   "metadata": {},
   "outputs": [
    {
     "data": {
      "image/png": "[encoded data removed]",
      "text/plain": [
       "<Figure size 792x576 with 1 Axes>"
      ]
     },
     "metadata": {
      "needs_background": "light"
     },
     "output_type": "display_data"
    }
   ],
   "source": [
    "plt.figure(figsize = (11, 8))\n",
    "plt.scatter(Voltage, I2**2)\n",
    "plt.plot(_V2, _I2, color = \"red\")\n",
    "plt.text(500, 5,r\"$R^2 = %s$\"%(R2_I2), color = 'r', fontsize = 20)\n",
    "plt.ylabel(r\"$I^{2}$ [A]\", fontsize = 20)\n",
    "plt.xlabel(\"Voltaje [V]\", fontsize = 20)\n",
    "plt.grid()\n",
    "plt.savefig(\"Value 2.pdf\")"
   ]
  },
  {
   "cell_type": "code",
   "execution_count": 176,
   "id": "39dcec74",
   "metadata": {},
   "outputs": [
    {
     "data": {
      "text/plain": [
       "(0.025596897058823526, -0.24495367647058863, 0.9966)"
      ]
     },
     "execution_count": 176,
     "metadata": {},
     "output_type": "execute_result"
    }
   ],
   "source": [
    "_V3, _I3, mI3, bI3 = GetRegression(Voltage, I3**2)\n",
    "R2_I3 = round(GetR2(mI3, bI3, Voltage, I3**2), 4)\n",
    "mI3, bI3, R2_I3"
   ]
  },
  {
   "cell_type": "code",
   "execution_count": 177,
   "id": "3ddf5136",
   "metadata": {},
   "outputs": [
    {
     "data": {
      "image/png": "[encoded data removed]",
      "text/plain": [
       "<Figure size 792x576 with 1 Axes>"
      ]
     },
     "metadata": {
      "needs_background": "light"
     },
     "output_type": "display_data"
    }
   ],
   "source": [
    "plt.figure(figsize = (11, 8))\n",
    "plt.scatter(Voltage, I3**2)\n",
    "plt.plot(_V3, _I3, color = \"red\")\n",
    "plt.text(500, 10,r\"$R^2 = %s$\"%(R2_I3), color = 'r', fontsize = 20)\n",
    "plt.ylabel(r\"$I^{2}$ [A]\", fontsize = 20)\n",
    "plt.xlabel(\"Voltaje [V]\", fontsize = 20)\n",
    "plt.grid()\n",
    "plt.savefig(\"Value 3.pdf\")"
   ]
  },
  {
   "cell_type": "code",
   "execution_count": 205,
   "id": "813eb31d",
   "metadata": {},
   "outputs": [
    {
     "data": {
      "text/plain": [
       "(175882001077.2163, 847868906.5089883)"
      ]
     },
     "execution_count": 205,
     "metadata": {},
     "output_type": "execute_result"
    }
   ],
   "source": [
    "N = 570\n",
    "L = 0.2535\n",
    "l = 0.108\n",
    "\n",
    "c1 = (8*(np.pi**2))/((constants.mu_0**2)*(N**2))\n",
    "c2 = (L**2)/((l**2))\n",
    "c = c1*c2\n",
    "\n",
    "em_theorical = constants.elementary_charge/constants.electron_mass # C/kg\n",
    "em_theorical, c"
   ]
  },
  {
   "cell_type": "code",
   "execution_count": 206,
   "id": "b1f1ece7",
   "metadata": {},
   "outputs": [
    {
     "data": {
      "text/plain": [
       "-0.07015988649995433"
      ]
     },
     "execution_count": 206,
     "metadata": {},
     "output_type": "execute_result"
    }
   ],
   "source": [
    "z1 = (1/mI1)*c\n",
    "(em_theorical - z1)/em_theorical"
   ]
  },
  {
   "cell_type": "code",
   "execution_count": 207,
   "id": "ae6d54a7",
   "metadata": {},
   "outputs": [
    {
     "data": {
      "text/plain": [
       "-0.4155501301288526"
      ]
     },
     "execution_count": 207,
     "metadata": {},
     "output_type": "execute_result"
    }
   ],
   "source": [
    "z2 = (1/mI2)*c*4\n",
    "(em_theorical - z2)/em_theorical"
   ]
  },
  {
   "cell_type": "code",
   "execution_count": 208,
   "id": "5f4cb194",
   "metadata": {},
   "outputs": [
    {
     "data": {
      "text/plain": [
       "-0.6949718830692436"
      ]
     },
     "execution_count": 208,
     "metadata": {},
     "output_type": "execute_result"
    }
   ],
   "source": [
    "z3 = (1/mI3)*c*9\n",
    "(em_theorical - z3)/em_theorical"
   ]
  },
  {
   "cell_type": "code",
   "execution_count": 182,
   "id": "cc45655c",
   "metadata": {},
   "outputs": [
    {
     "data": {
      "text/plain": [
       "(0.00025350000000000004, 0.00010799999999999998)"
      ]
     },
     "execution_count": 182,
     "metadata": {},
     "output_type": "execute_result"
    }
   ],
   "source": [
    "L2_Inc = L*L*(lenght_inc/L + lenght_inc/L)\n",
    "l2_Inc = l*l*(lenght_inc/l + lenght_inc/l)\n",
    "L2_Inc, l2_Inc"
   ]
  },
  {
   "cell_type": "code",
   "execution_count": 183,
   "id": "7ff7d4e2",
   "metadata": {},
   "outputs": [
    {
     "data": {
      "text/plain": [
       "0.07274698502514862"
      ]
     },
     "execution_count": 183,
     "metadata": {},
     "output_type": "execute_result"
    }
   ],
   "source": [
    "c2_Inc = (L**2/l**2)*(L2_Inc/(L**2) + l2_Inc/(l**2))\n",
    "c2_Inc"
   ]
  },
  {
   "cell_type": "code",
   "execution_count": 184,
   "id": "12f6cf6c",
   "metadata": {},
   "outputs": [
    {
     "data": {
      "text/plain": [
       "11195288.542004501"
      ]
     },
     "execution_count": 184,
     "metadata": {},
     "output_type": "execute_result"
    }
   ],
   "source": [
    "c_Inc = c1*c2*(c2_Inc/c2)\n",
    "c_Inc"
   ]
  },
  {
   "cell_type": "code",
   "execution_count": 185,
   "id": "b5d656bc",
   "metadata": {},
   "outputs": [
    {
     "data": {
      "text/plain": [
       "(0.02485287574882372, 1.8822186231017866)"
      ]
     },
     "execution_count": 185,
     "metadata": {},
     "output_type": "execute_result"
    }
   ],
   "source": [
    "em1 = c/mI1\n",
    "em1_inc = c/mI1*(c_Inc/c)\n",
    "em1_inc/1e11, em1/1e11"
   ]
  },
  {
   "cell_type": "code",
   "execution_count": 199,
   "id": "bfee8eaf",
   "metadata": {},
   "outputs": [
    {
     "data": {
      "text/plain": [
       "(0.008218512940011306, 2.4896978951217656)"
      ]
     },
     "execution_count": 199,
     "metadata": {},
     "output_type": "execute_result"
    }
   ],
   "source": [
    "em2 = (c*4)/mI2\n",
    "em2_inc = c/mI2*(c_Inc/c)\n",
    "em2_inc/1e11, em2/1e11"
   ]
  },
  {
   "cell_type": "code",
   "execution_count": 200,
   "id": "7f136161",
   "metadata": {},
   "outputs": [
    {
     "data": {
      "text/plain": [
       "(0.004373689715701444, 1.324955762505938)"
      ]
     },
     "execution_count": 200,
     "metadata": {},
     "output_type": "execute_result"
    }
   ],
   "source": [
    "em3 = (c*4)/mI3\n",
    "em3_inc = c/mI3*(c_Inc/c)\n",
    "em3_inc/1e11, em3/1e11"
   ]
  },
  {
   "cell_type": "code",
   "execution_count": 193,
   "id": "0d5f497e",
   "metadata": {},
   "outputs": [
    {
     "data": {
      "text/plain": [
       "(2.451022327953971, 4.316086265692652)"
      ]
     },
     "execution_count": 193,
     "metadata": {},
     "output_type": "execute_result"
    }
   ],
   "source": [
    "em_general = (em1 + em2 + em3)/3\n",
    "em_Inc = np.sqrt(em1**2 + em2**2 + em3**2)\n",
    "em_general/1e11, em_Inc/1e11"
   ]
  }
 ],
 "metadata": {
  "kernelspec": {
   "display_name": "Python 3 (ipykernel)",
   "language": "python",
   "name": "python3"
  },
  "language_info": {
   "codemirror_mode": {
    "name": "ipython",
    "version": 3
   },
   "file_extension": ".py",
   "mimetype": "text/x-python",
   "name": "python",
   "nbconvert_exporter": "python",
   "pygments_lexer": "ipython3",
   "version": "3.9.7"
  }
 },
 "nbformat": 4,
 "nbformat_minor": 5
}
