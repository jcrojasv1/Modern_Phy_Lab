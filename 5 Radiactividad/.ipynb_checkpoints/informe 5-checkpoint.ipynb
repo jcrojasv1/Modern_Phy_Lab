{
 "cells": [
  {
   "cell_type": "code",
   "execution_count": null,
   "id": "960429ab",
   "metadata": {},
   "outputs": [],
   "source": [
    "import pandas as pd\n",
    "import numpy as np\n",
    "import sympy as sym\n",
    "import scipy as sci\n",
    "from scipy import optimize\n",
    "import matplotlib.pyplot as plt"
   ]
  },
  {
   "cell_type": "code",
   "execution_count": 106,
   "id": "0385a932",
   "metadata": {},
   "outputs": [],
   "source": [
    "def Std(a):\n",
    "    sqr = np.sum((a - a.mean())**2)\n",
    "    return np.sqrt(sqr/(len(a) - 1))\n",
    "\n",
    "def Mean(a):\n",
    "    mean = np.sum(a)/len(a)\n",
    "    return mean"
   ]
  },
  {
   "cell_type": "code",
   "execution_count": 107,
   "id": "d97e46ff",
   "metadata": {},
   "outputs": [],
   "source": [
    "ambiental = pd.read_csv(\"Ambiental 1min.csv\",sep=\";\")\n",
    "bloqueos = pd.read_csv(\"Bloqueos 5min.csv\",sep=\";\")\n",
    "distanciafija = pd.read_csv(\"Distancia 5cm.csv\",sep=\";\")\n",
    "distanciavar = pd.read_csv(\"Distancias varias 1 min.csv\",sep=\";\")"
   ]
  },
  {
   "cell_type": "markdown",
   "id": "a5f91b9e",
   "metadata": {},
   "source": [
    "# Datos de ambiente"
   ]
  },
  {
   "cell_type": "code",
   "execution_count": 108,
   "id": "788e66ca",
   "metadata": {},
   "outputs": [
    {
     "data": {
      "text/plain": [
       "array([15, 14, 19, 14, 11], dtype=int64)"
      ]
     },
     "execution_count": 108,
     "metadata": {},
     "output_type": "execute_result"
    }
   ],
   "source": [
    "ambiental_5min = ambiental[\"Ambiente 5min\"].to_numpy()\n",
    "ambiental_5min"
   ]
  },
  {
   "cell_type": "code",
   "execution_count": 109,
   "id": "1facd07c",
   "metadata": {},
   "outputs": [
    {
     "data": {
      "text/plain": [
       "14.6"
      ]
     },
     "execution_count": 109,
     "metadata": {},
     "output_type": "execute_result"
    }
   ],
   "source": [
    "prom_ambiente = Mean(ambiental_5min)\n",
    "prom_ambiente"
   ]
  },
  {
   "cell_type": "code",
   "execution_count": 110,
   "id": "155d181f",
   "metadata": {},
   "outputs": [
    {
     "data": {
      "text/plain": [
       "2.8809720581775866"
      ]
     },
     "execution_count": 110,
     "metadata": {},
     "output_type": "execute_result"
    }
   ],
   "source": [
    "un_ambiente = Std(ambiental_5min)\n",
    "un_ambiente"
   ]
  },
  {
   "cell_type": "markdown",
   "id": "ab246421",
   "metadata": {},
   "source": [
    "# Datos de distancia fija a diferentes tiempos"
   ]
  },
  {
   "cell_type": "code",
   "execution_count": 111,
   "id": "b9cb6643",
   "metadata": {},
   "outputs": [],
   "source": [
    "prom_distancia_fija = np.array([0.,0.,0.])\n",
    "un_distancia_fija = np.array([0.,0.,0.])"
   ]
  },
  {
   "cell_type": "code",
   "execution_count": 112,
   "id": "f71fd4d7",
   "metadata": {},
   "outputs": [
    {
     "data": {
      "text/plain": [
       "(129.33333333333334, 10.016652800877813)"
      ]
     },
     "execution_count": 112,
     "metadata": {},
     "output_type": "execute_result"
    }
   ],
   "source": [
    "distnacia_fija1min = distanciafija[\"1min\"]\n",
    "prom_distancia_fija1min = Mean(distnacia_fija1min)\n",
    "std_distancia_fija1min = Std(distnacia_fija1min)\n",
    "\n",
    "prom_distancia_fija[0] = prom_distancia_fija1min\n",
    "un_distancia_fija[0] = std_distancia_fija1min\n",
    "\n",
    "prom_distancia_fija1min,std_distancia_fija1min"
   ]
  },
  {
   "cell_type": "code",
   "execution_count": 113,
   "id": "b00a65c5",
   "metadata": {},
   "outputs": [
    {
     "data": {
      "text/plain": [
       "(381.6666666666667, 7.505553499465135)"
      ]
     },
     "execution_count": 113,
     "metadata": {},
     "output_type": "execute_result"
    }
   ],
   "source": [
    "distnacia_fija3min = distanciafija[\"3min\"]\n",
    "prom_distancia_fija3min = Mean(distnacia_fija3min)\n",
    "std_distancia_fija3min = Std(distnacia_fija3min)\n",
    "\n",
    "prom_distancia_fija[1] = prom_distancia_fija3min\n",
    "un_distancia_fija[1] = std_distancia_fija3min\n",
    "\n",
    "prom_distancia_fija3min,std_distancia_fija3min"
   ]
  },
  {
   "cell_type": "code",
   "execution_count": 114,
   "id": "a38b7a6e",
   "metadata": {},
   "outputs": [
    {
     "data": {
      "text/plain": [
       "(645.0, 5.0)"
      ]
     },
     "execution_count": 114,
     "metadata": {},
     "output_type": "execute_result"
    }
   ],
   "source": [
    "distnacia_fija5min = distanciafija[\"5min\"]\n",
    "prom_distancia_fija5min = Mean(distnacia_fija5min)\n",
    "std_distancia_fija5min = Std(distnacia_fija5min)\n",
    "\n",
    "prom_distancia_fija[1] = prom_distancia_fija5min\n",
    "un_distancia_fija[1] = std_distancia_fija5min\n",
    "\n",
    "prom_distancia_fija5min,std_distancia_fija5min"
   ]
  },
  {
   "cell_type": "code",
   "execution_count": 144,
   "id": "3867ca4e",
   "metadata": {},
   "outputs": [
    {
     "data": {
      "image/png": "[encoded data removed]",
      "text/plain": [
       "<Figure size 640x480 with 1 Axes>"
      ]
     },
     "metadata": {},
     "output_type": "display_data"
    }
   ],
   "source": [
    "plt.scatter([1,3,5],un_distancia_fija)\n",
    "plt.xlabel(\"Tiempo [min]\")\n",
    "plt.ylabel(r\"Incertidumbre a distancia constante ($\\sigma_d$)\")\n",
    "plt.savefig(\"incertidumbrevstiempo.pdf\")"
   ]
  },
  {
   "cell_type": "markdown",
   "id": "192f1c1b",
   "metadata": {},
   "source": [
    "# Datos a distancia variante y mismos tiempos"
   ]
  },
  {
   "cell_type": "code",
   "execution_count": 146,
   "id": "1d84bdcf",
   "metadata": {},
   "outputs": [
    {
     "data": {
      "text/plain": [
       "(array([355.  , 173.75, 100.  ,  61.75,  44.25]),\n",
       " array([11.10555417, 21.42234036, 12.27463509,  3.20156212,  2.62995564]))"
      ]
     },
     "execution_count": 146,
     "metadata": {},
     "output_type": "execute_result"
    }
   ],
   "source": [
    "distancias = np.array([2.,4.,6.,8.,10.])\n",
    "counts = np.zeros_like(distancias)\n",
    "std = np.zeros_like(distancias)\n",
    "j = 0\n",
    "for i in distancias:\n",
    "    counts[j] = Mean(distanciavar[\"%s cm\"%(int(i))].to_numpy())\n",
    "    std[j] = Std(distanciavar[\"%s cm\"%(int(i))].to_numpy())\n",
    "    j +=1 \n",
    "    \n",
    "counts,std"
   ]
  },
  {
   "cell_type": "code",
   "execution_count": 153,
   "id": "8b1c7be5",
   "metadata": {},
   "outputs": [
    {
     "data": {
      "text/plain": [
       "(array([682.55266658]), array([[32.21644543]]))"
      ]
     },
     "execution_count": 153,
     "metadata": {},
     "output_type": "execute_result"
    },
    {
     "data": {
      "image/png": "[encoded data removed]",
      "text/plain": [
       "<Figure size 640x480 with 1 Axes>"
      ]
     },
     "metadata": {},
     "output_type": "display_data"
    }
   ],
   "source": [
    "plt.errorbar(distancias,counts,yerr=std,capsize=3,fmt=\".--\")\n",
    "plt.ylabel(\"Conteo de partículas\")\n",
    "plt.xlabel(\"Distancia a la fuente radiactiva [cm]\")\n",
    "\n",
    "def overR(x,a):\n",
    "    return a/x\n",
    "param,cov = optimize.curve_fit(overR,distancias,counts)\n",
    "\n",
    "r = np.linspace(distancias[0],distancias[-1])\n",
    "y = overR(r,param[0])\n",
    "plt.plot(r,y)\n",
    "plt.text(6,150,r\"$N(r) = \\frac{(6.82 \\pm 0.32)}{r}\\times10^2$\")\n",
    "plt.savefig(\"distnacia_var.pdf\")\n",
    "param,np.sqrt(cov)"
   ]
  },
  {
   "cell_type": "markdown",
   "id": "1324c00f",
   "metadata": {},
   "source": [
    "# Datos con los bloqueadores de emisión"
   ]
  },
  {
   "cell_type": "code",
   "execution_count": null,
   "id": "9d4f578a",
   "metadata": {},
   "outputs": [],
   "source": [
    "plomo = bloqueos[\"Plomo\"].to_numpy()"
   ]
  },
  {
   "cell_type": "code",
   "execution_count": null,
   "id": "cb0f6a45",
   "metadata": {},
   "outputs": [],
   "source": []
  }
 ],
 "metadata": {
  "kernelspec": {
   "display_name": "Python 3 (ipykernel)",
   "language": "python",
   "name": "python3"
  },
  "language_info": {
   "codemirror_mode": {
    "name": "ipython",
    "version": 3
   },
   "file_extension": ".py",
   "mimetype": "text/x-python",
   "name": "python",
   "nbconvert_exporter": "python",
   "pygments_lexer": "ipython3",
   "version": "3.9.13"
  }
 },
 "nbformat": 4,
 "nbformat_minor": 5
}
