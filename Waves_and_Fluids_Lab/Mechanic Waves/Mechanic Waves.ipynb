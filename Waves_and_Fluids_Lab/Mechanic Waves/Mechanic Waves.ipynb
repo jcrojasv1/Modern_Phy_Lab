{
 "cells": [
  {
   "cell_type": "code",
   "execution_count": 127,
   "id": "fd075f65",
   "metadata": {},
   "outputs": [],
   "source": [
    "import pandas as pd\n",
    "import numpy as np\n",
    "import sympy as sym\n",
    "from scipy import constants\n",
    "import matplotlib.pyplot as plt\n",
    "from scipy import optimize"
   ]
  },
  {
   "cell_type": "code",
   "execution_count": 128,
   "id": "4f4b18ab",
   "metadata": {},
   "outputs": [],
   "source": [
    "def GetRegression(x,y):\n",
    "    m,b = np.polyfit(x,y,1)\n",
    "    X = np.linspace(min(x),max(x),100)\n",
    "    Y = m*X + b\n",
    "    return X,Y,m,b\n",
    "\n",
    "def GetUncertainty(m,b,x,y):\n",
    "    Sum = np.sum((y - m*x - b)**2)\n",
    "    N_2 = len(y)-2\n",
    "    S_y = np.sqrt(Sum/N_2)\n",
    "    N = len(y)\n",
    "    denominator = N*np.sum(x**2) - (np.sum(x))**2\n",
    "    S_m = S_y*np.sqrt(N/denominator)\n",
    "    S_b = S_y*np.sqrt(np.sum(x**2)/denominator)\n",
    "    un_M = S_m\n",
    "    un_B =S_b\n",
    "    return un_M,un_B\n",
    "\n",
    "def GetR2(m, b, x, y):\n",
    "    # Cálculo de la \"bondad\" del ajuste con base en el parámetro R^2:\n",
    "    mean_y = np.sum(y)/len(y)\n",
    "    reg_y = m*x + b\n",
    "    SS_res = np.sum((y - reg_y)**2)\n",
    "    SS_tot = np.sum((y - mean_y)**2)\n",
    "    Rp2 = 1 - SS_res/SS_tot\n",
    "    return Rp2"
   ]
  },
  {
   "cell_type": "code",
   "execution_count": 129,
   "id": "71e69896",
   "metadata": {},
   "outputs": [],
   "source": [
    "n = np.array([1, 2, 3, 4, 5])\n",
    "k = 2*n - 1"
   ]
  },
  {
   "cell_type": "code",
   "execution_count": 130,
   "id": "8d2753b8",
   "metadata": {},
   "outputs": [
    {
     "data": {
      "text/html": [
       "<div>\n",
       "<style scoped>\n",
       "    .dataframe tbody tr th:only-of-type {\n",
       "        vertical-align: middle;\n",
       "    }\n",
       "\n",
       "    .dataframe tbody tr th {\n",
       "        vertical-align: top;\n",
       "    }\n",
       "\n",
       "    .dataframe thead th {\n",
       "        text-align: right;\n",
       "    }\n",
       "</style>\n",
       "<table border=\"1\" class=\"dataframe\">\n",
       "  <thead>\n",
       "    <tr style=\"text-align: right;\">\n",
       "      <th></th>\n",
       "      <th>distance</th>\n",
       "      <th>nodes</th>\n",
       "      <th>wavelenght</th>\n",
       "      <th>frequency</th>\n",
       "    </tr>\n",
       "  </thead>\n",
       "  <tbody>\n",
       "    <tr>\n",
       "      <th>0</th>\n",
       "      <td>0.19</td>\n",
       "      <td>1</td>\n",
       "      <td>0.760</td>\n",
       "      <td>1</td>\n",
       "    </tr>\n",
       "    <tr>\n",
       "      <th>1</th>\n",
       "      <td>0.36</td>\n",
       "      <td>2</td>\n",
       "      <td>0.480</td>\n",
       "      <td>0</td>\n",
       "    </tr>\n",
       "    <tr>\n",
       "      <th>2</th>\n",
       "      <td>0.54</td>\n",
       "      <td>3</td>\n",
       "      <td>0.432</td>\n",
       "      <td>0</td>\n",
       "    </tr>\n",
       "    <tr>\n",
       "      <th>3</th>\n",
       "      <td>0.70</td>\n",
       "      <td>4</td>\n",
       "      <td>0.400</td>\n",
       "      <td>0</td>\n",
       "    </tr>\n",
       "    <tr>\n",
       "      <th>4</th>\n",
       "      <td>0.87</td>\n",
       "      <td>5</td>\n",
       "      <td>0.386</td>\n",
       "      <td>0</td>\n",
       "    </tr>\n",
       "  </tbody>\n",
       "</table>\n",
       "</div>"
      ],
      "text/plain": [
       "   distance  nodes  wavelenght  frequency\n",
       "0      0.19      1       0.760          1\n",
       "1      0.36      2       0.480          0\n",
       "2      0.54      3       0.432          0\n",
       "3      0.70      4       0.400          0\n",
       "4      0.87      5       0.386          0"
      ]
     },
     "execution_count": 130,
     "metadata": {},
     "output_type": "execute_result"
    }
   ],
   "source": [
    "path1 = \"C:/Users/Darck/Ondas y Fluidos/Frecuencia 1.csv\"\n",
    "\n",
    "data1 = pd.read_csv(path1, sep = \";\")\n",
    "data1"
   ]
  },
  {
   "cell_type": "code",
   "execution_count": 131,
   "id": "e5fe88ed",
   "metadata": {},
   "outputs": [
    {
     "data": {
      "text/plain": [
       "'La velocidad en este caso será de 340.0 +/- 3.3'"
      ]
     },
     "execution_count": 131,
     "metadata": {},
     "output_type": "execute_result"
    }
   ],
   "source": [
    "factor1 = k/(4*(data1[\"frequency\"][0]*1000))\n",
    "distance1 = data1[\"distance\"]\n",
    "_factor1, _distance1, m1, b1 = GetRegression(factor1, distance1)\n",
    "R2_I1 = round(GetR2(m1, b1, factor1, distance1), 4)\n",
    "m1_i, b1_i = GetUncertainty(m1,b1,factor1,distance1)\n",
    "\"La velocidad en este caso será de {} +/- {}\".format(np.round(m1, 1), np.round(m1_i, 1))"
   ]
  },
  {
   "cell_type": "code",
   "execution_count": 155,
   "id": "b7209a9f",
   "metadata": {},
   "outputs": [
    {
     "data": {
      "image/png": "[encoded data removed]",
      "text/plain": [
       "<Figure size 792x504 with 1 Axes>"
      ]
     },
     "metadata": {
      "needs_background": "light"
     },
     "output_type": "display_data"
    }
   ],
   "source": [
    "plt.rcParams.update({'font.size': 13})\n",
    "\n",
    "plt.figure(figsize = (11, 7))\n",
    "plt.scatter(factor1, distance1)\n",
    "plt.plot(_factor1, _distance1, color = \"r\")\n",
    "plt.text(0.0015, 0.5, r\"$R^2 = %s$\"%(R2_I1), color = 'r', fontsize = 15)\n",
    "plt.xlabel(r\"Factor $k/4f$\", fontsize = 13)\n",
    "plt.ylabel(r\"Distancia al Nodo $n$\", fontsize = 13)\n",
    "plt.grid()\n",
    "plt.savefig(\"Value 1.pdf\")"
   ]
  },
  {
   "cell_type": "code",
   "execution_count": 133,
   "id": "9b58bc98",
   "metadata": {},
   "outputs": [
    {
     "data": {
      "text/plain": [
       "491.6"
      ]
     },
     "execution_count": 133,
     "metadata": {},
     "output_type": "execute_result"
    }
   ],
   "source": [
    "mean1 = np.sum(data1[\"wavelenght\"])/len(data1[\"wavelenght\"])\n",
    "mean1*data1[\"frequency\"][0]*1000"
   ]
  },
  {
   "cell_type": "code",
   "execution_count": 134,
   "id": "5516599e",
   "metadata": {},
   "outputs": [
    {
     "data": {
      "text/html": [
       "<div>\n",
       "<style scoped>\n",
       "    .dataframe tbody tr th:only-of-type {\n",
       "        vertical-align: middle;\n",
       "    }\n",
       "\n",
       "    .dataframe tbody tr th {\n",
       "        vertical-align: top;\n",
       "    }\n",
       "\n",
       "    .dataframe thead th {\n",
       "        text-align: right;\n",
       "    }\n",
       "</style>\n",
       "<table border=\"1\" class=\"dataframe\">\n",
       "  <thead>\n",
       "    <tr style=\"text-align: right;\">\n",
       "      <th></th>\n",
       "      <th>distance</th>\n",
       "      <th>nodes</th>\n",
       "      <th>wavelenght</th>\n",
       "      <th>frequency</th>\n",
       "    </tr>\n",
       "  </thead>\n",
       "  <tbody>\n",
       "    <tr>\n",
       "      <th>0</th>\n",
       "      <td>0.10</td>\n",
       "      <td>1</td>\n",
       "      <td>0.400</td>\n",
       "      <td>1.5</td>\n",
       "    </tr>\n",
       "    <tr>\n",
       "      <th>1</th>\n",
       "      <td>0.22</td>\n",
       "      <td>2</td>\n",
       "      <td>0.290</td>\n",
       "      <td>0.0</td>\n",
       "    </tr>\n",
       "    <tr>\n",
       "      <th>2</th>\n",
       "      <td>0.34</td>\n",
       "      <td>3</td>\n",
       "      <td>0.272</td>\n",
       "      <td>0.0</td>\n",
       "    </tr>\n",
       "    <tr>\n",
       "      <th>3</th>\n",
       "      <td>0.46</td>\n",
       "      <td>4</td>\n",
       "      <td>0.262</td>\n",
       "      <td>0.0</td>\n",
       "    </tr>\n",
       "    <tr>\n",
       "      <th>4</th>\n",
       "      <td>0.58</td>\n",
       "      <td>5</td>\n",
       "      <td>0.257</td>\n",
       "      <td>0.0</td>\n",
       "    </tr>\n",
       "  </tbody>\n",
       "</table>\n",
       "</div>"
      ],
      "text/plain": [
       "   distance  nodes  wavelenght  frequency\n",
       "0      0.10      1       0.400        1.5\n",
       "1      0.22      2       0.290        0.0\n",
       "2      0.34      3       0.272        0.0\n",
       "3      0.46      4       0.262        0.0\n",
       "4      0.58      5       0.257        0.0"
      ]
     },
     "execution_count": 134,
     "metadata": {},
     "output_type": "execute_result"
    }
   ],
   "source": [
    "path2 = \"C:/Users/Darck/Ondas y Fluidos/Frecuencia 2.csv\"\n",
    "\n",
    "data2 = pd.read_csv(path2, sep = \";\")\n",
    "data2"
   ]
  },
  {
   "cell_type": "code",
   "execution_count": 135,
   "id": "50ce471d",
   "metadata": {},
   "outputs": [
    {
     "data": {
      "text/plain": [
       "'La velocidad en este caso será de 360.0 +/- 2.0733247781937863e-13'"
      ]
     },
     "execution_count": 135,
     "metadata": {},
     "output_type": "execute_result"
    }
   ],
   "source": [
    "factor2 = k/(4*(data2[\"frequency\"][0]*1000))\n",
    "distance2 = data2[\"distance\"]\n",
    "_factor2, _distance2, m2, b2 = GetRegression(factor2, distance2)\n",
    "R2_I2 = round(GetR2(m2, b2, factor2, distance2), 4)\n",
    "m2_i, b2_i = GetUncertainty(m2,b2,factor2,distance2)\n",
    "\"La velocidad en este caso será de {} +/- {}\".format(np.round(m2, 1), m2_i)"
   ]
  },
  {
   "cell_type": "code",
   "execution_count": 154,
   "id": "a0b14092",
   "metadata": {},
   "outputs": [
    {
     "data": {
      "image/png": "[encoded data removed]",
      "text/plain": [
       "<Figure size 792x504 with 1 Axes>"
      ]
     },
     "metadata": {
      "needs_background": "light"
     },
     "output_type": "display_data"
    }
   ],
   "source": [
    "plt.figure(figsize = (11, 7))\n",
    "plt.scatter(factor2, distance2)\n",
    "plt.plot(_factor2, _distance2, color = \"r\")\n",
    "plt.text(0.0010, 0.3, r\"$R^2 = %s$\"%(R2_I2), color = 'r', fontsize = 15)\n",
    "plt.xlabel(r\"Factor $k/4f$\", fontsize = 13)\n",
    "plt.ylabel(r\"Distancia al Nodo $n$\", fontsize = 13)\n",
    "plt.grid()\n",
    "plt.savefig(\"Value 2.pdf\")"
   ]
  },
  {
   "cell_type": "code",
   "execution_count": 144,
   "id": "3d9f13e2",
   "metadata": {},
   "outputs": [
    {
     "data": {
      "text/plain": [
       "444.2999999999999"
      ]
     },
     "execution_count": 144,
     "metadata": {},
     "output_type": "execute_result"
    }
   ],
   "source": [
    "mean2 = np.sum(data2[\"wavelenght\"])/len(data2[\"wavelenght\"])\n",
    "mean2*data2[\"frequency\"][0]*1000"
   ]
  },
  {
   "cell_type": "code",
   "execution_count": 137,
   "id": "f0c992ce",
   "metadata": {},
   "outputs": [
    {
     "data": {
      "text/html": [
       "<div>\n",
       "<style scoped>\n",
       "    .dataframe tbody tr th:only-of-type {\n",
       "        vertical-align: middle;\n",
       "    }\n",
       "\n",
       "    .dataframe tbody tr th {\n",
       "        vertical-align: top;\n",
       "    }\n",
       "\n",
       "    .dataframe thead th {\n",
       "        text-align: right;\n",
       "    }\n",
       "</style>\n",
       "<table border=\"1\" class=\"dataframe\">\n",
       "  <thead>\n",
       "    <tr style=\"text-align: right;\">\n",
       "      <th></th>\n",
       "      <th>distance</th>\n",
       "      <th>nodes</th>\n",
       "      <th>wavelenght</th>\n",
       "      <th>frequency</th>\n",
       "    </tr>\n",
       "  </thead>\n",
       "  <tbody>\n",
       "    <tr>\n",
       "      <th>0</th>\n",
       "      <td>0.10</td>\n",
       "      <td>1</td>\n",
       "      <td>0.400</td>\n",
       "      <td>1.6</td>\n",
       "    </tr>\n",
       "    <tr>\n",
       "      <th>1</th>\n",
       "      <td>0.21</td>\n",
       "      <td>2</td>\n",
       "      <td>0.280</td>\n",
       "      <td>0.0</td>\n",
       "    </tr>\n",
       "    <tr>\n",
       "      <th>2</th>\n",
       "      <td>0.31</td>\n",
       "      <td>3</td>\n",
       "      <td>0.248</td>\n",
       "      <td>0.0</td>\n",
       "    </tr>\n",
       "    <tr>\n",
       "      <th>3</th>\n",
       "      <td>0.43</td>\n",
       "      <td>4</td>\n",
       "      <td>0.245</td>\n",
       "      <td>0.0</td>\n",
       "    </tr>\n",
       "    <tr>\n",
       "      <th>4</th>\n",
       "      <td>0.53</td>\n",
       "      <td>5</td>\n",
       "      <td>0.235</td>\n",
       "      <td>0.0</td>\n",
       "    </tr>\n",
       "  </tbody>\n",
       "</table>\n",
       "</div>"
      ],
      "text/plain": [
       "   distance  nodes  wavelenght  frequency\n",
       "0      0.10      1       0.400        1.6\n",
       "1      0.21      2       0.280        0.0\n",
       "2      0.31      3       0.248        0.0\n",
       "3      0.43      4       0.245        0.0\n",
       "4      0.53      5       0.235        0.0"
      ]
     },
     "execution_count": 137,
     "metadata": {},
     "output_type": "execute_result"
    }
   ],
   "source": [
    "path3 = \"C:/Users/Darck/Ondas y Fluidos/Frecuencia 3.csv\"\n",
    "\n",
    "data3 = pd.read_csv(path3, sep = \";\")\n",
    "data3"
   ]
  },
  {
   "cell_type": "code",
   "execution_count": 138,
   "id": "8d2aefda",
   "metadata": {},
   "outputs": [
    {
     "data": {
      "text/plain": [
       "'La velocidad en este caso será de 346.0 +/- 5.0'"
      ]
     },
     "execution_count": 138,
     "metadata": {},
     "output_type": "execute_result"
    }
   ],
   "source": [
    "factor3 = k/(4*(data3[\"frequency\"][0]*1000))\n",
    "distance3 = data3[\"distance\"]\n",
    "_factor3, _distance3, m3, b3 = GetRegression(factor3, distance3)\n",
    "R2_I3 = round(GetR2(m3, b3, factor3, distance3), 4)\n",
    "m3_i, b3_i = GetUncertainty(m3,b3,factor3,distance3)\n",
    "\"La velocidad en este caso será de {} +/- {}\".format(np.round(m3, 0), np.round(m3_i, 0))"
   ]
  },
  {
   "cell_type": "code",
   "execution_count": 156,
   "id": "e6876404",
   "metadata": {},
   "outputs": [
    {
     "data": {
      "image/png": "[encoded data removed]",
      "text/plain": [
       "<Figure size 792x504 with 1 Axes>"
      ]
     },
     "metadata": {
      "needs_background": "light"
     },
     "output_type": "display_data"
    }
   ],
   "source": [
    "plt.figure(figsize = (11, 7))\n",
    "plt.scatter(factor3, distance3)\n",
    "plt.plot(_factor3, _distance3, color = \"r\")\n",
    "plt.text(0.0010, 0.3, r\"$R^2 = %s$\"%(R2_I3), color = 'r', fontsize = 15)\n",
    "plt.xlabel(r\"Factor $k/4f$\", fontsize = 13)\n",
    "plt.ylabel(r\"Distancia al Nodo $n$\", fontsize = 13)\n",
    "plt.grid()\n",
    "plt.savefig(\"Value 3.pdf\")"
   ]
  },
  {
   "cell_type": "code",
   "execution_count": 145,
   "id": "15c8b0c2",
   "metadata": {},
   "outputs": [
    {
     "data": {
      "text/plain": [
       "450.55999999999995"
      ]
     },
     "execution_count": 145,
     "metadata": {},
     "output_type": "execute_result"
    }
   ],
   "source": [
    "mean3 = np.sum(data3[\"wavelenght\"])/len(data3[\"wavelenght\"])\n",
    "mean3*data3[\"frequency\"][0]*1000"
   ]
  },
  {
   "cell_type": "code",
   "execution_count": 140,
   "id": "097990a3",
   "metadata": {},
   "outputs": [
    {
     "data": {
      "text/html": [
       "<div>\n",
       "<style scoped>\n",
       "    .dataframe tbody tr th:only-of-type {\n",
       "        vertical-align: middle;\n",
       "    }\n",
       "\n",
       "    .dataframe tbody tr th {\n",
       "        vertical-align: top;\n",
       "    }\n",
       "\n",
       "    .dataframe thead th {\n",
       "        text-align: right;\n",
       "    }\n",
       "</style>\n",
       "<table border=\"1\" class=\"dataframe\">\n",
       "  <thead>\n",
       "    <tr style=\"text-align: right;\">\n",
       "      <th></th>\n",
       "      <th>distance</th>\n",
       "      <th>nodes</th>\n",
       "      <th>wavelenght</th>\n",
       "      <th>frequency</th>\n",
       "    </tr>\n",
       "  </thead>\n",
       "  <tbody>\n",
       "    <tr>\n",
       "      <th>0</th>\n",
       "      <td>0.090</td>\n",
       "      <td>1</td>\n",
       "      <td>0.360</td>\n",
       "      <td>1.7</td>\n",
       "    </tr>\n",
       "    <tr>\n",
       "      <th>1</th>\n",
       "      <td>0.200</td>\n",
       "      <td>2</td>\n",
       "      <td>0.280</td>\n",
       "      <td>0.0</td>\n",
       "    </tr>\n",
       "    <tr>\n",
       "      <th>2</th>\n",
       "      <td>0.295</td>\n",
       "      <td>3</td>\n",
       "      <td>0.236</td>\n",
       "      <td>0.0</td>\n",
       "    </tr>\n",
       "    <tr>\n",
       "      <th>3</th>\n",
       "      <td>0.395</td>\n",
       "      <td>4</td>\n",
       "      <td>0.225</td>\n",
       "      <td>0.0</td>\n",
       "    </tr>\n",
       "    <tr>\n",
       "      <th>4</th>\n",
       "      <td>0.495</td>\n",
       "      <td>5</td>\n",
       "      <td>0.220</td>\n",
       "      <td>0.0</td>\n",
       "    </tr>\n",
       "  </tbody>\n",
       "</table>\n",
       "</div>"
      ],
      "text/plain": [
       "   distance  nodes  wavelenght  frequency\n",
       "0     0.090      1       0.360        1.7\n",
       "1     0.200      2       0.280        0.0\n",
       "2     0.295      3       0.236        0.0\n",
       "3     0.395      4       0.225        0.0\n",
       "4     0.495      5       0.220        0.0"
      ]
     },
     "execution_count": 140,
     "metadata": {},
     "output_type": "execute_result"
    }
   ],
   "source": [
    "path4 = \"C:/Users/Darck/Ondas y Fluidos/Frecuencia 4.csv\"\n",
    "\n",
    "data4 = pd.read_csv(path4, sep = \";\")\n",
    "data4"
   ]
  },
  {
   "cell_type": "code",
   "execution_count": 143,
   "id": "f5dbaeba",
   "metadata": {},
   "outputs": [
    {
     "data": {
      "text/plain": [
       "'La velocidad en este caso será de 342.0 +/- 4.0'"
      ]
     },
     "execution_count": 143,
     "metadata": {},
     "output_type": "execute_result"
    }
   ],
   "source": [
    "factor4 = k/(4*(data4[\"frequency\"][0]*1000))\n",
    "distance4 = data4[\"distance\"]\n",
    "_factor4, _distance4, m4, b4 = GetRegression(factor4, distance4)\n",
    "R2_I4 = round(GetR2(m4, b4, factor4, distance4), 4)\n",
    "m4_i, b4_i = GetUncertainty(m4,b4,factor4,distance4)\n",
    "\"La velocidad en este caso será de {} +/- {}\".format(np.round(m4, 0), np.round(m4_i, 0))"
   ]
  },
  {
   "cell_type": "code",
   "execution_count": 157,
   "id": "dc700be5",
   "metadata": {},
   "outputs": [
    {
     "data": {
      "image/png": "[encoded data removed]",
      "text/plain": [
       "<Figure size 792x504 with 1 Axes>"
      ]
     },
     "metadata": {
      "needs_background": "light"
     },
     "output_type": "display_data"
    }
   ],
   "source": [
    "plt.figure(figsize = (11, 7))\n",
    "plt.scatter(factor4, distance4)\n",
    "plt.plot(_factor4, _distance4, color = \"r\")\n",
    "plt.text(0.0010, 0.3, r\"$R^2 = %s$\"%(R2_I4), color = 'r', fontsize = 15)\n",
    "plt.xlabel(r\"Factor $k/4f$\", fontsize = 13)\n",
    "plt.ylabel(r\"Distancia al Nodo $n$\", fontsize = 13)\n",
    "plt.grid()\n",
    "plt.savefig(\"Value 4.pdf\")"
   ]
  },
  {
   "cell_type": "code",
   "execution_count": 146,
   "id": "6c24c8b2",
   "metadata": {},
   "outputs": [
    {
     "data": {
      "text/plain": [
       "449.14"
      ]
     },
     "execution_count": 146,
     "metadata": {},
     "output_type": "execute_result"
    }
   ],
   "source": [
    "mean4 = np.sum(data4[\"wavelenght\"])/len(data4[\"wavelenght\"])\n",
    "mean4*data4[\"frequency\"][0]*1000"
   ]
  }
 ],
 "metadata": {
  "kernelspec": {
   "display_name": "Python 3 (ipykernel)",
   "language": "python",
   "name": "python3"
  },
  "language_info": {
   "codemirror_mode": {
    "name": "ipython",
    "version": 3
   },
   "file_extension": ".py",
   "mimetype": "text/x-python",
   "name": "python",
   "nbconvert_exporter": "python",
   "pygments_lexer": "ipython3",
   "version": "3.9.7"
  }
 },
 "nbformat": 4,
 "nbformat_minor": 5
}
