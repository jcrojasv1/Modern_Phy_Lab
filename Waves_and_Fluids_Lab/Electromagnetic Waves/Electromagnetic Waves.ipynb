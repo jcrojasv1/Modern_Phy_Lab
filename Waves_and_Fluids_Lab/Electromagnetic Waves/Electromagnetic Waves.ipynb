{
 "cells": [
  {
   "cell_type": "code",
   "execution_count": 1,
   "id": "1781bd5c",
   "metadata": {},
   "outputs": [],
   "source": [
    "import pandas as pd\n",
    "import numpy as np\n",
    "import sympy as sym\n",
    "from scipy import constants\n",
    "import matplotlib.pyplot as plt\n",
    "from scipy import optimize"
   ]
  },
  {
   "cell_type": "code",
   "execution_count": 41,
   "id": "9145f511",
   "metadata": {},
   "outputs": [],
   "source": [
    "def GetPropagation(expr,vars,sigmas,measures):\n",
    "    prop = 0\n",
    "    for i in range(len(measures)):\n",
    "        prop += expr.diff(var[i])**2 * sigmas[i]**2\n",
    "    \n",
    "    sigma = sym.sqrt(prop)\n",
    "    #Sección para soltar el valor calculado y la incertidumbre del valor calculado. \n",
    "\n",
    "    sigma = sym.lambdify(var,sigma)\n",
    "    mean = sym.lambdify(var,exp)\n",
    "    return mean(*measures),sigma(*measures)\n",
    "\n",
    "def New_Inc(inc1, inc2):\n",
    "    return np.sqrt(inc1**2 + inc2**2)\n",
    "\n",
    "lenght_inc = 0.05 # Incertidumbre del Flexómetro.\n",
    "current_inc = 0.25 # Incertidumbre del Amperímetro."
   ]
  },
  {
   "cell_type": "code",
   "execution_count": 5,
   "id": "7fe35793",
   "metadata": {},
   "outputs": [
    {
     "data": {
      "text/html": [
       "<div>\n",
       "<style scoped>\n",
       "    .dataframe tbody tr th:only-of-type {\n",
       "        vertical-align: middle;\n",
       "    }\n",
       "\n",
       "    .dataframe tbody tr th {\n",
       "        vertical-align: top;\n",
       "    }\n",
       "\n",
       "    .dataframe thead th {\n",
       "        text-align: right;\n",
       "    }\n",
       "</style>\n",
       "<table border=\"1\" class=\"dataframe\">\n",
       "  <thead>\n",
       "    <tr style=\"text-align: right;\">\n",
       "      <th></th>\n",
       "      <th>Corriente (microA)</th>\n",
       "      <th>Distancia (cm)</th>\n",
       "    </tr>\n",
       "  </thead>\n",
       "  <tbody>\n",
       "    <tr>\n",
       "      <th>0</th>\n",
       "      <td>3.5</td>\n",
       "      <td>5.00</td>\n",
       "    </tr>\n",
       "    <tr>\n",
       "      <th>1</th>\n",
       "      <td>32.5</td>\n",
       "      <td>5.50</td>\n",
       "    </tr>\n",
       "    <tr>\n",
       "      <th>2</th>\n",
       "      <td>28.5</td>\n",
       "      <td>6.75</td>\n",
       "    </tr>\n",
       "    <tr>\n",
       "      <th>3</th>\n",
       "      <td>23.5</td>\n",
       "      <td>8.50</td>\n",
       "    </tr>\n",
       "    <tr>\n",
       "      <th>4</th>\n",
       "      <td>18.5</td>\n",
       "      <td>9.50</td>\n",
       "    </tr>\n",
       "    <tr>\n",
       "      <th>5</th>\n",
       "      <td>19.0</td>\n",
       "      <td>11.25</td>\n",
       "    </tr>\n",
       "    <tr>\n",
       "      <th>6</th>\n",
       "      <td>18.0</td>\n",
       "      <td>12.75</td>\n",
       "    </tr>\n",
       "  </tbody>\n",
       "</table>\n",
       "</div>"
      ],
      "text/plain": [
       "   Corriente (microA)  Distancia (cm)\n",
       "0                 3.5            5.00\n",
       "1                32.5            5.50\n",
       "2                28.5            6.75\n",
       "3                23.5            8.50\n",
       "4                18.5            9.50\n",
       "5                19.0           11.25\n",
       "6                18.0           12.75"
      ]
     },
     "execution_count": 5,
     "metadata": {},
     "output_type": "execute_result"
    }
   ],
   "source": [
    "path1 = \"C:/Users/Darck/Ondas y Fluidos/Electromagnetic Waves/data/Ondas Estacionarias.csv\"\n",
    "\n",
    "data1 = pd.read_csv(path1, sep = \";\")\n",
    "data1"
   ]
  },
  {
   "cell_type": "code",
   "execution_count": 64,
   "id": "2aa25eaa",
   "metadata": {},
   "outputs": [
    {
     "data": {
      "image/png": "[encoded data removed]",
      "text/plain": [
       "<Figure size 792x504 with 1 Axes>"
      ]
     },
     "metadata": {
      "needs_background": "light"
     },
     "output_type": "display_data"
    }
   ],
   "source": [
    "X1 = np.array(data1[\"Corriente (microA)\"])\n",
    "X1[0] = 33.5\n",
    "Y1 = np.array(data1[\"Distancia (cm)\"])\n",
    "\n",
    "plt.rcParams.update({'font.size': 13})\n",
    "plt.figure(figsize = (11, 7))\n",
    "plt.scatter(Y1, X1, color = \"r\")\n",
    "plt.ylabel(r\"Intensidad de Corriente [$\\mu$A]\", fontsize = 13)\n",
    "plt.xlabel(r\"Distancia de Separación [cm]\", fontsize = 13)\n",
    "plt.grid()\n",
    "plt.savefig(\"Stationary.pdf\")"
   ]
  },
  {
   "cell_type": "code",
   "execution_count": 67,
   "id": "7a663bf8",
   "metadata": {},
   "outputs": [
    {
     "data": {
      "text/plain": [
       "(2.7, 0.158113883008419, array([1.75, 3.  , 2.75, 2.75, 3.25]))"
      ]
     },
     "execution_count": 67,
     "metadata": {},
     "output_type": "execute_result"
    }
   ],
   "source": [
    "wave_lenght = np.array([Y1[2] - Y1[0], Y1[3] - Y1[1], Y1[4] - Y1[2], Y1[5] - Y1[3], Y1[6] - Y1[4]])\n",
    "main_value = np.sum(wave_lenght)/5\n",
    "\n",
    "Gen_Inc = np.sqrt(5*New_Inc(lenght_inc, lenght_inc)**2)\n",
    "main_value, Gen_Inc, wave_lenght"
   ]
  },
  {
   "cell_type": "code",
   "execution_count": 24,
   "id": "6c278a93",
   "metadata": {},
   "outputs": [
    {
     "data": {
      "text/html": [
       "<div>\n",
       "<style scoped>\n",
       "    .dataframe tbody tr th:only-of-type {\n",
       "        vertical-align: middle;\n",
       "    }\n",
       "\n",
       "    .dataframe tbody tr th {\n",
       "        vertical-align: top;\n",
       "    }\n",
       "\n",
       "    .dataframe thead th {\n",
       "        text-align: right;\n",
       "    }\n",
       "</style>\n",
       "<table border=\"1\" class=\"dataframe\">\n",
       "  <thead>\n",
       "    <tr style=\"text-align: right;\">\n",
       "      <th></th>\n",
       "      <th>Corriente (microA)</th>\n",
       "      <th>Angulo</th>\n",
       "    </tr>\n",
       "  </thead>\n",
       "  <tbody>\n",
       "    <tr>\n",
       "      <th>0</th>\n",
       "      <td>1.5</td>\n",
       "      <td>70</td>\n",
       "    </tr>\n",
       "    <tr>\n",
       "      <th>1</th>\n",
       "      <td>15.5</td>\n",
       "      <td>80</td>\n",
       "    </tr>\n",
       "    <tr>\n",
       "      <th>2</th>\n",
       "      <td>43.0</td>\n",
       "      <td>90</td>\n",
       "    </tr>\n",
       "    <tr>\n",
       "      <th>3</th>\n",
       "      <td>20.5</td>\n",
       "      <td>100</td>\n",
       "    </tr>\n",
       "    <tr>\n",
       "      <th>4</th>\n",
       "      <td>3.5</td>\n",
       "      <td>110</td>\n",
       "    </tr>\n",
       "  </tbody>\n",
       "</table>\n",
       "</div>"
      ],
      "text/plain": [
       "   Corriente (microA)  Angulo\n",
       "0                 1.5      70\n",
       "1                15.5      80\n",
       "2                43.0      90\n",
       "3                20.5     100\n",
       "4                 3.5     110"
      ]
     },
     "execution_count": 24,
     "metadata": {},
     "output_type": "execute_result"
    }
   ],
   "source": [
    "path2 = \"C:/Users/Darck/Ondas y Fluidos/Electromagnetic Waves/data/Reflexión.csv\"\n",
    "\n",
    "data2 = pd.read_csv(path2, sep = \";\")\n",
    "data2"
   ]
  },
  {
   "cell_type": "code",
   "execution_count": 66,
   "id": "93678632",
   "metadata": {},
   "outputs": [
    {
     "data": {
      "image/png": "[encoded data removed]",
      "text/plain": [
       "<Figure size 792x504 with 1 Axes>"
      ]
     },
     "metadata": {
      "needs_background": "light"
     },
     "output_type": "display_data"
    }
   ],
   "source": [
    "X2 = np.array(data2[\"Corriente (microA)\"])\n",
    "Y2 = np.array(data2[\"Angulo\"])\n",
    "plt.rcParams.update({'font.size': 13})\n",
    "plt.figure(figsize = (11, 7))\n",
    "plt.scatter(Y2, X2, color = \"r\")\n",
    "plt.ylabel(r\"Intensidad de Corriente [$\\mu$A]\", fontsize = 13)\n",
    "plt.xlabel(r\"Ángulo de Incidencia [$\\circ$]\", fontsize = 13)\n",
    "plt.grid()\n",
    "plt.savefig(\"Tendency.pdf\")"
   ]
  }
 ],
 "metadata": {
  "kernelspec": {
   "display_name": "Python 3 (ipykernel)",
   "language": "python",
   "name": "python3"
  },
  "language_info": {
   "codemirror_mode": {
    "name": "ipython",
    "version": 3
   },
   "file_extension": ".py",
   "mimetype": "text/x-python",
   "name": "python",
   "nbconvert_exporter": "python",
   "pygments_lexer": "ipython3",
   "version": "3.9.7"
  }
 },
 "nbformat": 4,
 "nbformat_minor": 5
}
