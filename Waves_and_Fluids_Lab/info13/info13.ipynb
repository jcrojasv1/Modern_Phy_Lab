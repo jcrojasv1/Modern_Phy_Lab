{
 "cells": [
  {
   "cell_type": "code",
   "execution_count": 1,
   "id": "29e3d56a",
   "metadata": {},
   "outputs": [],
   "source": [
    "import matplotlib.pyplot as plt\n",
    "import numpy as np\n",
    "import scipy as sci\n",
    "import pandas as pd\n",
    "import sympy as sym"
   ]
  },
  {
   "cell_type": "code",
   "execution_count": 2,
   "id": "f9111780",
   "metadata": {},
   "outputs": [
    {
     "data": {
      "text/html": [
       "<div>\n",
       "<style scoped>\n",
       "    .dataframe tbody tr th:only-of-type {\n",
       "        vertical-align: middle;\n",
       "    }\n",
       "\n",
       "    .dataframe tbody tr th {\n",
       "        vertical-align: top;\n",
       "    }\n",
       "\n",
       "    .dataframe thead th {\n",
       "        text-align: right;\n",
       "    }\n",
       "</style>\n",
       "<table border=\"1\" class=\"dataframe\">\n",
       "  <thead>\n",
       "    <tr style=\"text-align: right;\">\n",
       "      <th></th>\n",
       "      <th>glicerina</th>\n",
       "      <th>recina</th>\n",
       "      <th>oliva</th>\n",
       "      <th>trans</th>\n",
       "    </tr>\n",
       "  </thead>\n",
       "  <tbody>\n",
       "    <tr>\n",
       "      <th>0</th>\n",
       "      <td>1.77</td>\n",
       "      <td>1.58</td>\n",
       "      <td>0.44</td>\n",
       "      <td>0.84</td>\n",
       "    </tr>\n",
       "    <tr>\n",
       "      <th>1</th>\n",
       "      <td>1.91</td>\n",
       "      <td>1.54</td>\n",
       "      <td>0.34</td>\n",
       "      <td>0.98</td>\n",
       "    </tr>\n",
       "    <tr>\n",
       "      <th>2</th>\n",
       "      <td>1.80</td>\n",
       "      <td>1.59</td>\n",
       "      <td>0.41</td>\n",
       "      <td>0.82</td>\n",
       "    </tr>\n",
       "    <tr>\n",
       "      <th>3</th>\n",
       "      <td>1.61</td>\n",
       "      <td>1.46</td>\n",
       "      <td>0.56</td>\n",
       "      <td>0.86</td>\n",
       "    </tr>\n",
       "    <tr>\n",
       "      <th>4</th>\n",
       "      <td>1.47</td>\n",
       "      <td>1.51</td>\n",
       "      <td>0.37</td>\n",
       "      <td>1.00</td>\n",
       "    </tr>\n",
       "  </tbody>\n",
       "</table>\n",
       "</div>"
      ],
      "text/plain": [
       "   glicerina  recina  oliva  trans\n",
       "0       1.77    1.58   0.44   0.84\n",
       "1       1.91    1.54   0.34   0.98\n",
       "2       1.80    1.59   0.41   0.82\n",
       "3       1.61    1.46   0.56   0.86\n",
       "4       1.47    1.51   0.37   1.00"
      ]
     },
     "execution_count": 2,
     "metadata": {},
     "output_type": "execute_result"
    }
   ],
   "source": [
    "DataFrame = pd.read_excel(\"data.xlsx\")\n",
    "DataFrame"
   ]
  },
  {
   "cell_type": "code",
   "execution_count": 3,
   "id": "f2e21204",
   "metadata": {},
   "outputs": [
    {
     "data": {
      "text/plain": [
       "(array([1.77, 1.91, 1.8 , 1.61, 1.47]),\n",
       " array([0.44, 0.34, 0.41, 0.56, 0.37]),\n",
       " array([1.58, 1.54, 1.59, 1.46, 1.51]),\n",
       " array([0.84, 0.98, 0.82, 0.86, 1.  ]))"
      ]
     },
     "execution_count": 3,
     "metadata": {},
     "output_type": "execute_result"
    }
   ],
   "source": [
    "h_glicerina = 52e-2\n",
    "h_recina = 51e-2\n",
    "h_oliva = 49.5e-2\n",
    "h_trans = 43e-2\n",
    "\n",
    "t_glicerina = DataFrame[\"glicerina\"].to_numpy()\n",
    "t_recina = DataFrame[\"recina\"].to_numpy()\n",
    "t_oliva = DataFrame[\"oliva\"].to_numpy()\n",
    "t_trans = DataFrame[\"trans\"].to_numpy()\n",
    "t_glicerina,t_oliva,t_recina,t_trans"
   ]
  },
  {
   "cell_type": "code",
   "execution_count": 11,
   "id": "38750199",
   "metadata": {},
   "outputs": [
    {
     "name": "stdout",
     "output_type": "stream",
     "text": [
      "0.15445387661046256 0.07605261336732619 0.047581509013481314 0.07483314773547885\n",
      "1.7120000000000002 0.42400000000000004 1.536 0.9\n"
     ]
    },
    {
     "data": {
      "image/png": "[encoded data removed]",
      "text/plain": [
       "<Figure size 640x480 with 1 Axes>"
      ]
     },
     "metadata": {},
     "output_type": "display_data"
    }
   ],
   "source": [
    "plt.boxplot(DataFrame,labels=[\"Glicerina \\n (h = 52 cm)\",\"A. de recina \\n (h = 51 cm)\",\"A. de oliva \\n (h = 49.5 cm)\",\"A. de transmisión \\n (h = 43.0 cm)\"],showmeans=True)\n",
    "plt.ylabel(\"Tiempo en recorrer una altura determinada [s]\")\n",
    "plt.xlabel(\"Fluidos utilizados\")\n",
    "\n",
    "print(np.std(t_glicerina),np.std(t_oliva),np.std(t_recina),np.std(t_trans))\n",
    "print(np.mean(t_glicerina),np.mean(t_oliva),np.mean(t_recina),np.mean(t_trans))\n",
    "\n",
    "times = np.array([np.mean(t_glicerina),np.mean(t_oliva),np.mean(t_recina),np.mean(t_trans)])\n",
    "heights = np.array([52e-2,49.5e-2,51e-2,43e-2])\n",
    "un_t = np.array([np.std(t_glicerina),np.std(t_oliva),np.std(t_recina),np.std(t_trans)])\n",
    "un_h = np.ones_like(un_t)*0.25e-2\n",
    "plt.savefig(\"Tiempos.pdf\")"
   ]
  },
  {
   "cell_type": "code",
   "execution_count": 12,
   "id": "4b72bb04",
   "metadata": {},
   "outputs": [],
   "source": [
    "def GetPropagation(var,exp,meas,uncert):\n",
    "    prop = 0\n",
    "    medido = exp\n",
    "    for i in range(len(meas)):\n",
    "        prop += (sym.diff(exp,var[i]))**2*uncert[i]**2\n",
    "    for i in range(len(var)):\n",
    "        prop = prop.subs(var[i],meas[i])\n",
    "        medido = medido.subs(var[i],meas[i])\n",
    "    return medido,sym.sqrt(prop)\n",
    "    \n",
    "var = sym.symbols(\"h t\")\n",
    "\n",
    "measures = []\n",
    "uncerts = []\n",
    "exp = var[0]/var[1]\n",
    "\n",
    "for i in range(4):\n",
    "    measures.append([heights[i],times[i]])\n",
    "    uncerts.append([un_h[i],un_t[i]])\n",
    "\n",
    "velocities = []\n",
    "un_velocities =[]\n",
    "    \n",
    "for i in range(len(measures)):\n",
    "    velocities.append(GetPropagation(var,exp,measures[i],uncerts[i])[0])\n",
    "    un_velocities.append(GetPropagation(var,exp,measures[i],uncerts[i])[1])\n"
   ]
  },
  {
   "cell_type": "code",
   "execution_count": 29,
   "id": "caef1c9d",
   "metadata": {},
   "outputs": [
    {
     "data": {
      "text/plain": [
       "(array([1200,  902,  969,  878]),\n",
       " [0.303738317757009, 1.16745283018868, 0.332031250000000, 0.477777777777778],\n",
       " [2.04767560146154, 0.556620966429091, 1.93825847250824, 1.36480475176744])"
      ]
     },
     "execution_count": 29,
     "metadata": {},
     "output_type": "execute_result"
    }
   ],
   "source": [
    "R = 1.31e-2/2\n",
    "un_R = 0.25e-2\n",
    "var = sym.symbols(\"R v\")\n",
    "densities = np.array([1200,902,969,878])\n",
    "viscosity = []\n",
    "for i in range(len(densities)):\n",
    "    exp1 = 2*var[0]**2*(7850 - densities[i])*9.81/(9*var[1])\n",
    "    viscosity.append(GetPropagation(var,exp1,[R,velocities[i]],[un_R,un_velocities[i]])[0])\n",
    "    \n",
    "densities,velocities,viscosity"
   ]
  },
  {
   "cell_type": "code",
   "execution_count": 31,
   "id": "0dac1ab4",
   "metadata": {},
   "outputs": [
    {
     "data": {
      "text/plain": [
       "array([2.33179823587885, 24.7832132888814, 2.17451467085337,\n",
       "       4.02643999980799], dtype=object)"
      ]
     },
     "execution_count": 31,
     "metadata": {},
     "output_type": "execute_result"
    }
   ],
   "source": [
    "Re = densities*velocities*R*2/viscosity\n",
    "Re"
   ]
  },
  {
   "cell_type": "code",
   "execution_count": null,
   "id": "e5becfa9",
   "metadata": {},
   "outputs": [],
   "source": []
  }
 ],
 "metadata": {
  "kernelspec": {
   "display_name": "Python 3 (ipykernel)",
   "language": "python",
   "name": "python3"
  },
  "language_info": {
   "codemirror_mode": {
    "name": "ipython",
    "version": 3
   },
   "file_extension": ".py",
   "mimetype": "text/x-python",
   "name": "python",
   "nbconvert_exporter": "python",
   "pygments_lexer": "ipython3",
   "version": "3.9.13"
  }
 },
 "nbformat": 4,
 "nbformat_minor": 5
}
