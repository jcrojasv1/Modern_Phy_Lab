{
 "cells": [
  {
   "cell_type": "code",
   "execution_count": 31,
   "id": "1d1c91e1",
   "metadata": {},
   "outputs": [
    {
     "data": {
      "text/plain": [
       "0.31220000000000003"
      ]
     },
     "execution_count": 31,
     "metadata": {},
     "output_type": "execute_result"
    }
   ],
   "source": [
    "import numpy as np\n",
    "import sympy as sym\n",
    "v = 0.7e-2*44.6\n",
    "v"
   ]
  },
  {
   "cell_type": "code",
   "execution_count": 19,
   "id": "1d6f0ed3",
   "metadata": {},
   "outputs": [
    {
     "data": {
      "text/plain": [
       "0.01175986505629478"
      ]
     },
     "execution_count": 19,
     "metadata": {},
     "output_type": "execute_result"
    }
   ],
   "source": [
    "v**2/9.77"
   ]
  },
  {
   "cell_type": "code",
   "execution_count": 20,
   "id": "79cf1074",
   "metadata": {},
   "outputs": [
    {
     "data": {
      "text/plain": [
       "0.108708660347092"
      ]
     },
     "execution_count": 20,
     "metadata": {},
     "output_type": "execute_result"
    }
   ],
   "source": [
    "np.sqrt((9.77*0.76e-2)/(2*np.pi))"
   ]
  },
  {
   "cell_type": "code",
   "execution_count": 26,
   "id": "491814d9",
   "metadata": {},
   "outputs": [],
   "source": [
    "def GetPropagation(expr,var,sigmas,measures):\n",
    "    prop = 0\n",
    "    for i in range(len(measures)):\n",
    "        prop += expr.diff(var[i])**2 * sigmas[i]**2\n",
    "    \n",
    "    sigma = sym.sqrt(prop)\n",
    "    print(sigma)\n",
    "    #Sección para soltar el valor calculado y la incertidumbre del valor calculado. \n",
    "    \n",
    "    sigma = sym.lambdify(var,sigma)\n",
    "    mean = sym.lambdify(var,exp)\n",
    "    print(mean)\n",
    "    return mean(*measures),sigma(*measures)"
   ]
  },
  {
   "cell_type": "code",
   "execution_count": 35,
   "id": "6b558b20",
   "metadata": {},
   "outputs": [
    {
     "name": "stdout",
     "output_type": "stream",
     "text": [
      "0.000781424980404389*sqrt(1/h)\n",
      "<function _lambdifygenerated at 0x0000026CC23EB550>\n"
     ]
    },
    {
     "data": {
      "text/plain": [
       "(0.26151481793581055, 0.009339814926278937)"
      ]
     },
     "execution_count": 35,
     "metadata": {},
     "output_type": "execute_result"
    }
   ],
   "source": [
    "g = 9.77\n",
    "h = sym.Symbol(\"h\")\n",
    "\n",
    "exp = sym.sqrt(g*h)\n",
    "measure = np.array([0.7e-2])\n",
    "un_h = np.array([0.05e-2])\n",
    "GetPropagation(exp,np.array([h]),un_h,measure)"
   ]
  },
  {
   "cell_type": "code",
   "execution_count": null,
   "id": "f0bcf855",
   "metadata": {},
   "outputs": [],
   "source": []
  }
 ],
 "metadata": {
  "kernelspec": {
   "display_name": "Python 3 (ipykernel)",
   "language": "python",
   "name": "python3"
  },
  "language_info": {
   "codemirror_mode": {
    "name": "ipython",
    "version": 3
   },
   "file_extension": ".py",
   "mimetype": "text/x-python",
   "name": "python",
   "nbconvert_exporter": "python",
   "pygments_lexer": "ipython3",
   "version": "3.9.13"
  }
 },
 "nbformat": 4,
 "nbformat_minor": 5
}
