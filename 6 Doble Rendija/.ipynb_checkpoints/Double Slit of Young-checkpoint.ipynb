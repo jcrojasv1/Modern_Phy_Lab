{
 "cells": [
  {
   "cell_type": "code",
   "execution_count": 97,
   "id": "bd6e26ad",
   "metadata": {},
   "outputs": [],
   "source": [
    "import pandas as pd\n",
    "import numpy as np\n",
    "import sympy as sym\n",
    "from scipy import constants\n",
    "import matplotlib.pyplot as plt\n",
    "from scipy import optimize"
   ]
  },
  {
   "cell_type": "code",
   "execution_count": 56,
   "id": "d4e00312",
   "metadata": {},
   "outputs": [
    {
     "data": {
      "text/html": [
       "<div>\n",
       "<style scoped>\n",
       "    .dataframe tbody tr th:only-of-type {\n",
       "        vertical-align: middle;\n",
       "    }\n",
       "\n",
       "    .dataframe tbody tr th {\n",
       "        vertical-align: top;\n",
       "    }\n",
       "\n",
       "    .dataframe thead th {\n",
       "        text-align: right;\n",
       "    }\n",
       "</style>\n",
       "<table border=\"1\" class=\"dataframe\">\n",
       "  <thead>\n",
       "    <tr style=\"text-align: right;\">\n",
       "      <th></th>\n",
       "      <th>Longitud</th>\n",
       "      <th>Voltaje</th>\n",
       "    </tr>\n",
       "  </thead>\n",
       "  <tbody>\n",
       "    <tr>\n",
       "      <th>0</th>\n",
       "      <td>-20</td>\n",
       "      <td>0.640</td>\n",
       "    </tr>\n",
       "    <tr>\n",
       "      <th>1</th>\n",
       "      <td>-40</td>\n",
       "      <td>0.636</td>\n",
       "    </tr>\n",
       "    <tr>\n",
       "      <th>2</th>\n",
       "      <td>-60</td>\n",
       "      <td>0.625</td>\n",
       "    </tr>\n",
       "    <tr>\n",
       "      <th>3</th>\n",
       "      <td>-80</td>\n",
       "      <td>0.612</td>\n",
       "    </tr>\n",
       "    <tr>\n",
       "      <th>4</th>\n",
       "      <td>-100</td>\n",
       "      <td>0.587</td>\n",
       "    </tr>\n",
       "    <tr>\n",
       "      <th>...</th>\n",
       "      <td>...</td>\n",
       "      <td>...</td>\n",
       "    </tr>\n",
       "    <tr>\n",
       "      <th>397</th>\n",
       "      <td>3240</td>\n",
       "      <td>0.303</td>\n",
       "    </tr>\n",
       "    <tr>\n",
       "      <th>398</th>\n",
       "      <td>3260</td>\n",
       "      <td>0.309</td>\n",
       "    </tr>\n",
       "    <tr>\n",
       "      <th>399</th>\n",
       "      <td>3280</td>\n",
       "      <td>0.315</td>\n",
       "    </tr>\n",
       "    <tr>\n",
       "      <th>400</th>\n",
       "      <td>3300</td>\n",
       "      <td>0.321</td>\n",
       "    </tr>\n",
       "    <tr>\n",
       "      <th>401</th>\n",
       "      <td>3320</td>\n",
       "      <td>0.327</td>\n",
       "    </tr>\n",
       "  </tbody>\n",
       "</table>\n",
       "<p>402 rows × 2 columns</p>\n",
       "</div>"
      ],
      "text/plain": [
       "     Longitud  Voltaje\n",
       "0         -20    0.640\n",
       "1         -40    0.636\n",
       "2         -60    0.625\n",
       "3         -80    0.612\n",
       "4        -100    0.587\n",
       "..        ...      ...\n",
       "397      3240    0.303\n",
       "398      3260    0.309\n",
       "399      3280    0.315\n",
       "400      3300    0.321\n",
       "401      3320    0.327\n",
       "\n",
       "[402 rows x 2 columns]"
      ]
     },
     "execution_count": 56,
     "metadata": {},
     "output_type": "execute_result"
    }
   ],
   "source": [
    "path = \"C:/Users/Darck/Modern_Phy_Lab/6 Doble Rendija/Double Slit.csv\"\n",
    "\n",
    "data = pd.read_csv(path, sep = \";\")\n",
    "data"
   ]
  },
  {
   "cell_type": "code",
   "execution_count": 218,
   "id": "d277d988",
   "metadata": {},
   "outputs": [
    {
     "data": {
      "text/plain": [
       "array([-0.0002, -0.0004, -0.0006, -0.0008, -0.001 , -0.0012, -0.0014,\n",
       "       -0.0016, -0.0018, -0.002 , -0.0022, -0.0024, -0.0026, -0.0028,\n",
       "       -0.003 , -0.0032, -0.0034, -0.0036, -0.0038, -0.004 , -0.0042,\n",
       "       -0.0044, -0.0046, -0.0048, -0.005 , -0.0052, -0.0054, -0.0056,\n",
       "       -0.0058, -0.006 , -0.0062, -0.0064, -0.0066, -0.0068, -0.007 ,\n",
       "       -0.0072, -0.0074, -0.0076, -0.0078, -0.008 , -0.0082, -0.0084,\n",
       "       -0.0086, -0.0088, -0.009 , -0.0092, -0.0094, -0.0096, -0.0098,\n",
       "       -0.01  , -0.0102, -0.0104, -0.0106, -0.0108, -0.011 , -0.0112,\n",
       "       -0.0114, -0.0116, -0.0118, -0.012 , -0.0122, -0.0124, -0.0126,\n",
       "       -0.0128, -0.013 , -0.0132, -0.0134, -0.0136, -0.0138, -0.014 ,\n",
       "       -0.0142, -0.0144, -0.0146, -0.0148, -0.015 , -0.0152, -0.0154,\n",
       "       -0.0156, -0.0158, -0.016 , -0.0162, -0.0164, -0.0166, -0.0168,\n",
       "       -0.017 , -0.0172, -0.0174, -0.0176, -0.0178, -0.018 , -0.0182,\n",
       "       -0.0184, -0.0186, -0.0188, -0.019 , -0.0192, -0.0194, -0.0196,\n",
       "       -0.0198, -0.02  , -0.0202, -0.0204, -0.0206, -0.0208, -0.021 ,\n",
       "       -0.0212, -0.0214, -0.0216, -0.0218, -0.022 , -0.0222, -0.0224,\n",
       "       -0.0226, -0.0228, -0.023 , -0.0232, -0.0234, -0.0236, -0.0238,\n",
       "       -0.024 , -0.0242, -0.0244, -0.0246, -0.0248, -0.025 , -0.0252,\n",
       "       -0.0254, -0.0256, -0.0258, -0.026 , -0.0262, -0.0264, -0.0266,\n",
       "       -0.0268, -0.027 , -0.0272, -0.0274, -0.0276, -0.0278, -0.028 ,\n",
       "       -0.0282, -0.0284, -0.0286, -0.0288, -0.029 , -0.0292, -0.0294,\n",
       "       -0.0296, -0.0298, -0.03  , -0.0302, -0.0304, -0.0306, -0.0308,\n",
       "       -0.031 , -0.0312, -0.0314, -0.0316, -0.0318, -0.032 , -0.0322,\n",
       "       -0.0324, -0.0326, -0.0328, -0.033 , -0.0332, -0.0334, -0.0336,\n",
       "       -0.0338, -0.034 , -0.0342, -0.0344, -0.0346, -0.0348, -0.035 ,\n",
       "       -0.0352, -0.0354, -0.0356, -0.0358, -0.036 , -0.0362, -0.0364,\n",
       "       -0.0366, -0.0368, -0.037 , -0.0372, -0.0374, -0.0376, -0.0378,\n",
       "       -0.038 , -0.0382, -0.0384, -0.0386, -0.0388, -0.039 , -0.0392,\n",
       "       -0.0394, -0.0396, -0.0398, -0.04  , -0.0402, -0.0404, -0.0406,\n",
       "       -0.0408, -0.041 , -0.0412, -0.0414, -0.0416, -0.0418, -0.042 ,\n",
       "       -0.0422, -0.0424, -0.0426, -0.0428, -0.043 , -0.0432, -0.0434,\n",
       "       -0.0436, -0.0438, -0.044 , -0.0442, -0.0444, -0.0446, -0.0448,\n",
       "       -0.045 , -0.0452, -0.0454, -0.0456, -0.0458, -0.046 , -0.0462,\n",
       "       -0.0464, -0.0466, -0.0468, -0.047 ,  0.    ,  0.0002,  0.0004,\n",
       "        0.0006,  0.0008,  0.001 ,  0.0012,  0.0014,  0.0016,  0.0018,\n",
       "        0.002 ,  0.0022,  0.0024,  0.0026,  0.0028,  0.003 ,  0.0032,\n",
       "        0.0034,  0.0036,  0.0038,  0.004 ,  0.0042,  0.0044,  0.0046,\n",
       "        0.0048,  0.005 ,  0.0052,  0.0054,  0.0056,  0.0058,  0.006 ,\n",
       "        0.0062,  0.0064,  0.0066,  0.0068,  0.007 ,  0.0072,  0.0074,\n",
       "        0.0076,  0.0078,  0.008 ,  0.0082,  0.0084,  0.0086,  0.0088,\n",
       "        0.009 ,  0.0092,  0.0094,  0.0096,  0.0098,  0.01  ,  0.0102,\n",
       "        0.0104,  0.0106,  0.0108,  0.011 ,  0.0112,  0.0114,  0.0116,\n",
       "        0.0118,  0.012 ,  0.0122,  0.0124,  0.0126,  0.0128,  0.013 ,\n",
       "        0.0132,  0.0134,  0.0136,  0.0138,  0.014 ,  0.0142,  0.0144,\n",
       "        0.0146,  0.0148,  0.015 ,  0.0152,  0.0154,  0.0156,  0.0158,\n",
       "        0.016 ,  0.0162,  0.0164,  0.0166,  0.0168,  0.017 ,  0.0172,\n",
       "        0.0174,  0.0176,  0.0178,  0.018 ,  0.0182,  0.0184,  0.0186,\n",
       "        0.0188,  0.019 ,  0.0192,  0.0194,  0.0196,  0.0198,  0.02  ,\n",
       "        0.0202,  0.0204,  0.0206,  0.0208,  0.021 ,  0.0212,  0.0214,\n",
       "        0.0216,  0.0218,  0.022 ,  0.0222,  0.0224,  0.0226,  0.0228,\n",
       "        0.023 ,  0.0232,  0.0234,  0.0236,  0.0238,  0.024 ,  0.0242,\n",
       "        0.0244,  0.0246,  0.0248,  0.025 ,  0.0252,  0.0254,  0.0256,\n",
       "        0.0258,  0.026 ,  0.0262,  0.0264,  0.0266,  0.0268,  0.027 ,\n",
       "        0.0272,  0.0274,  0.0276,  0.0278,  0.028 ,  0.0282,  0.0284,\n",
       "        0.0286,  0.0288,  0.029 ,  0.0292,  0.0294,  0.0296,  0.0298,\n",
       "        0.03  ,  0.0302,  0.0304,  0.0306,  0.0308,  0.031 ,  0.0312,\n",
       "        0.0314,  0.0316,  0.0318,  0.032 ,  0.0322,  0.0324,  0.0326,\n",
       "        0.0328,  0.033 ,  0.0332])"
      ]
     },
     "execution_count": 218,
     "metadata": {},
     "output_type": "execute_result"
    }
   ],
   "source": [
    "lenght = data[\"Longitud\"].to_numpy()*1e-5\n",
    "voltage = data[\"Voltaje\"].to_numpy()\n",
    "lenght"
   ]
  },
  {
   "cell_type": "code",
   "execution_count": 219,
   "id": "cc46c8b5",
   "metadata": {},
   "outputs": [
    {
     "data": {
      "text/plain": [
       "Text(0, 0.5, 'Voltaje [V]')"
      ]
     },
     "execution_count": 219,
     "metadata": {},
     "output_type": "execute_result"
    },
    {
     "data": {
      "image/png": "[encoded data removed]",
      "text/plain": [
       "<Figure size 432x288 with 1 Axes>"
      ]
     },
     "metadata": {
      "needs_background": "light"
     },
     "output_type": "display_data"
    }
   ],
   "source": [
    "end = len(lenght) - 60\n",
    "plt.scatter(lenght[0:end], voltage[0:end])\n",
    "plt.axvline(0, color = \"red\")\n",
    "plt.axhline(0, color = \"red\")\n",
    "plt.xlabel(r\"Longitud $y$ [m]\")\n",
    "plt.ylabel(\"Voltaje [V]\")"
   ]
  },
  {
   "cell_type": "code",
   "execution_count": 224,
   "id": "3ea6e8bd",
   "metadata": {},
   "outputs": [
    {
     "data": {
      "text/plain": [
       "array([0.0018217 , 0.00182168, 0.00182167, ..., 0.00182167, 0.00182168,\n",
       "       0.0018217 ])"
      ]
     },
     "execution_count": 224,
     "metadata": {},
     "output_type": "execute_result"
    }
   ],
   "source": [
    "a = 0.1e-4\n",
    "d = 0.457e-9\n",
    "lambda_ = 670e-9\n",
    "l = 0.47\n",
    "\n",
    "def Awaited_Function(x):\n",
    "    v0 = 0.660\n",
    "    alpha = (np.pi*a)/lambda_ * x/l\n",
    "    beta = (np.pi*d)/lambda_ * x/l \n",
    "    return v0 * np.cos(beta)**2 * (np.sin(alpha)/alpha)**2\n",
    "\n",
    "values = np.linspace(-0.1, 0.1, int(1e7))\n",
    "y_ = Awaited_Function(values)\n",
    "y_"
   ]
  },
  {
   "cell_type": "code",
   "execution_count": 225,
   "id": "ae1bc075",
   "metadata": {},
   "outputs": [
    {
     "data": {
      "text/plain": [
       "<matplotlib.collections.PathCollection at 0x16f8511e6d0>"
      ]
     },
     "execution_count": 225,
     "metadata": {},
     "output_type": "execute_result"
    },
    {
     "data": {
      "image/png": "[encoded data removed]",
      "text/plain": [
       "<Figure size 432x288 with 1 Axes>"
      ]
     },
     "metadata": {
      "needs_background": "light"
     },
     "output_type": "display_data"
    }
   ],
   "source": [
    "plt.plot(values, y_)\n",
    "plt.scatter(lenght[0:end], voltage[0:end])"
   ]
  },
  {
   "cell_type": "code",
   "execution_count": 181,
   "id": "40115dc9",
   "metadata": {},
   "outputs": [
    {
     "data": {
      "text/plain": [
       "array([-0.00425529, -0.00851043, -0.01276526, -0.01701963, -0.02127339,\n",
       "       -0.02552637, -0.02977843, -0.03402941, -0.03827916, -0.04252753,\n",
       "       -0.04677437, -0.05101952, -0.05526282, -0.05950414, -0.06374331,\n",
       "       -0.06798019, -0.07221463, -0.07644648, -0.08067558, -0.08490179,\n",
       "       -0.08912497, -0.09334496, -0.09756162, -0.1017748 , -0.10598436,\n",
       "       -0.11019015, -0.11439203, -0.11858986, -0.12278349, -0.12697279,\n",
       "       -0.13115761, -0.13533782, -0.13951327, -0.14368383, -0.14784937,\n",
       "       -0.15200974, -0.15616481, -0.16031446, -0.16445855, -0.16859694,\n",
       "       -0.17272951, -0.17685613, -0.18097667, -0.18509101, -0.18919902,\n",
       "       -0.19330058, -0.19739556, -0.20148384, -0.20556531, -0.20963985,\n",
       "       -0.21370733, -0.21776764, -0.22182067, -0.2258663 , -0.22990443,\n",
       "       -0.23393494, -0.23795772, -0.24197266, -0.24597966, -0.24997862,\n",
       "       -0.25396943, -0.25795199, -0.26192619, -0.26589195, -0.26984916,\n",
       "       -0.27379772, -0.27773755, -0.28166854, -0.28559061, -0.28950367,\n",
       "       -0.29340763, -0.2973024 , -0.3011879 , -0.30506404, -0.30893074,\n",
       "       -0.31278793, -0.31663551, -0.32047342, -0.32430157, -0.3281199 ,\n",
       "       -0.33192832, -0.33572677, -0.33951518, -0.34329348, -0.3470616 ,\n",
       "       -0.35081948, -0.35456705, -0.35830425, -0.36203102, -0.3657473 ,\n",
       "       -0.36945303, -0.37314816, -0.37683262, -0.38050638, -0.38416936,\n",
       "       -0.38782154, -0.39146284, -0.39509323, -0.39871267, -0.4023211 ,\n",
       "       -0.40591848, -0.40950477, -0.41307993, -0.41664393, -0.42019671,\n",
       "       -0.42373826, -0.42726852, -0.43078747, -0.43429507, -0.4377913 ,\n",
       "       -0.44127613, -0.44474952, -0.44821144, -0.45166188, -0.45510081,\n",
       "       -0.4585282 , -0.46194403, -0.46534829, -0.46874094, -0.47212198,\n",
       "       -0.47549139, -0.47884914, -0.48219523, -0.48552964, -0.48885235,\n",
       "       -0.49216337, -0.49546267, -0.49875024, -0.50202608, -0.50529019,\n",
       "       -0.50854255, -0.51178315, -0.51501201, -0.5182291 , -0.52143444,\n",
       "       -0.52462801, -0.52780983, -0.53097988, -0.53413818, -0.53728471,\n",
       "       -0.5404195 , -0.54354254, -0.54665383, -0.54975339, -0.55284122,\n",
       "       -0.55591733, -0.55898172, -0.56203442, -0.56507542, -0.56810473,\n",
       "       -0.57112238, -0.57412837, -0.57712272, -0.58010543, -0.58307654,\n",
       "       -0.58603604, -0.58898396, -0.59192031, -0.59484512, -0.59775839,\n",
       "       -0.60066016, -0.60355043, -0.60642923, -0.60929658, -0.6121525 ,\n",
       "       -0.61499701, -0.61783014, -0.6206519 , -0.62346233, -0.62626144,\n",
       "       -0.62904926, -0.63182582, -0.63459113, -0.63734524, -0.64008815,\n",
       "       -0.64281991, -0.64554053, -0.64825006, -0.6509485 , -0.6536359 ,\n",
       "       -0.65631228, -0.65897767, -0.6616321 , -0.6642756 , -0.6669082 ,\n",
       "       -0.66952994, -0.67214084, -0.67474094, -0.67733027, -0.67990885,\n",
       "       -0.68247673, -0.68503394, -0.6875805 , -0.69011646, -0.69264184,\n",
       "       -0.69515669, -0.69766102, -0.70015489, -0.70263832, -0.70511135,\n",
       "       -0.70757401, -0.71002634, -0.71246838, -0.71490015, -0.71732171,\n",
       "       -0.71973307, -0.72213428, -0.72452538, -0.7269064 , -0.72927738,\n",
       "       -0.73163835, -0.73398936, -0.73633044, -0.73866162, -0.74098295,\n",
       "       -0.74329446, -0.74559619, -0.74788817, -0.75017045, -0.75244307,\n",
       "       -0.75470605, -0.75695944, -0.75920328, -0.76143761, -0.76366246,\n",
       "       -0.76587787, -0.76808388, -0.77028052, -0.77246785, -0.77464589,\n",
       "       -0.77681468, -0.77897427, -0.78112469, -0.78326597, -0.78539816,\n",
       "        0.        ,  0.00425529,  0.00851043,  0.01276526,  0.01701963,\n",
       "        0.02127339,  0.02552637,  0.02977843,  0.03402941,  0.03827916,\n",
       "        0.04252753,  0.04677437,  0.05101952,  0.05526282,  0.05950414,\n",
       "        0.06374331,  0.06798019,  0.07221463,  0.07644648,  0.08067558,\n",
       "        0.08490179,  0.08912497,  0.09334496,  0.09756162,  0.1017748 ,\n",
       "        0.10598436,  0.11019015,  0.11439203,  0.11858986,  0.12278349,\n",
       "        0.12697279,  0.13115761,  0.13533782,  0.13951327,  0.14368383,\n",
       "        0.14784937,  0.15200974,  0.15616481,  0.16031446,  0.16445855,\n",
       "        0.16859694,  0.17272951,  0.17685613,  0.18097667,  0.18509101,\n",
       "        0.18919902,  0.19330058,  0.19739556,  0.20148384,  0.20556531,\n",
       "        0.20963985,  0.21370733,  0.21776764,  0.22182067,  0.2258663 ,\n",
       "        0.22990443,  0.23393494,  0.23795772,  0.24197266,  0.24597966,\n",
       "        0.24997862,  0.25396943,  0.25795199,  0.26192619,  0.26589195,\n",
       "        0.26984916,  0.27379772,  0.27773755,  0.28166854,  0.28559061,\n",
       "        0.28950367,  0.29340763,  0.2973024 ,  0.3011879 ,  0.30506404,\n",
       "        0.30893074,  0.31278793,  0.31663551,  0.32047342,  0.32430157,\n",
       "        0.3281199 ,  0.33192832,  0.33572677,  0.33951518,  0.34329348,\n",
       "        0.3470616 ,  0.35081948,  0.35456705,  0.35830425,  0.36203102,\n",
       "        0.3657473 ,  0.36945303,  0.37314816,  0.37683262,  0.38050638,\n",
       "        0.38416936,  0.38782154,  0.39146284,  0.39509323,  0.39871267,\n",
       "        0.4023211 ,  0.40591848,  0.40950477,  0.41307993,  0.41664393,\n",
       "        0.42019671,  0.42373826,  0.42726852,  0.43078747,  0.43429507,\n",
       "        0.4377913 ,  0.44127613,  0.44474952,  0.44821144,  0.45166188,\n",
       "        0.45510081,  0.4585282 ,  0.46194403,  0.46534829,  0.46874094,\n",
       "        0.47212198,  0.47549139,  0.47884914,  0.48219523,  0.48552964,\n",
       "        0.48885235,  0.49216337,  0.49546267,  0.49875024,  0.50202608,\n",
       "        0.50529019,  0.50854255,  0.51178315,  0.51501201,  0.5182291 ,\n",
       "        0.52143444,  0.52462801,  0.52780983,  0.53097988,  0.53413818,\n",
       "        0.53728471,  0.5404195 ,  0.54354254,  0.54665383,  0.54975339,\n",
       "        0.55284122,  0.55591733,  0.55898172,  0.56203442,  0.56507542,\n",
       "        0.56810473,  0.57112238,  0.57412837,  0.57712272,  0.58010543,\n",
       "        0.58307654,  0.58603604,  0.58898396,  0.59192031,  0.59484512,\n",
       "        0.59775839,  0.60066016,  0.60355043,  0.60642923,  0.60929658,\n",
       "        0.6121525 ,  0.61499701])"
      ]
     },
     "execution_count": 181,
     "metadata": {},
     "output_type": "execute_result"
    }
   ],
   "source": [
    "L = 0.47\n",
    "theta = np.arctan((lenght)/L)\n",
    "theta"
   ]
  },
  {
   "cell_type": "code",
   "execution_count": 182,
   "id": "564edff2",
   "metadata": {},
   "outputs": [
    {
     "data": {
      "text/plain": [
       "Text(0, 0.5, 'Voltaje [V]')"
      ]
     },
     "execution_count": 182,
     "metadata": {},
     "output_type": "execute_result"
    },
    {
     "data": {
      "image/png": "[encoded data removed]",
      "text/plain": [
       "<Figure size 432x288 with 1 Axes>"
      ]
     },
     "metadata": {
      "needs_background": "light"
     },
     "output_type": "display_data"
    }
   ],
   "source": [
    "plt.scatter(theta[0:end], voltage[0:end])\n",
    "plt.xlabel(r\"Ángulo $\\theta$ [rad]\")\n",
    "plt.ylabel(\"Voltaje [V]\")"
   ]
  },
  {
   "cell_type": "code",
   "execution_count": 226,
   "id": "6cf74620",
   "metadata": {},
   "outputs": [
    {
     "name": "stderr",
     "output_type": "stream",
     "text": [
      "C:\\Users\\Darck\\AppData\\Local\\Temp/ipykernel_28856/3916393541.py:9: RuntimeWarning: invalid value encountered in true_divide\n",
      "  return v0 * (np.cos(beta)**2) * (np.sin(alpha)/alpha)**2\n"
     ]
    },
    {
     "data": {
      "text/plain": [
       "array([0.00040942, 0.00040942, 0.00040942, ..., 0.00028801, 0.00028801,\n",
       "       0.00028802])"
      ]
     },
     "execution_count": 226,
     "metadata": {},
     "output_type": "execute_result"
    }
   ],
   "source": [
    "a = 0.1e-4\n",
    "d = 0.457e-9\n",
    "lambda_ = 670e-9\n",
    "\n",
    "def Awaited_Function(x):\n",
    "    v0 = 0.660\n",
    "    alpha = (np.pi*a)/lambda_ * np.sin(x)\n",
    "    beta = (np.pi*d)/lambda_ * np.sin(x)\n",
    "    return v0 * (np.cos(beta)**2) * (np.sin(alpha)/alpha)**2\n",
    "\n",
    "values = np.linspace(-1.0, 0.5, int(1e7))\n",
    "y_ = Awaited_Function(values)\n",
    "y_"
   ]
  },
  {
   "cell_type": "code",
   "execution_count": 227,
   "id": "d4c4d898",
   "metadata": {},
   "outputs": [
    {
     "data": {
      "text/plain": [
       "[<matplotlib.lines.Line2D at 0x16f851916d0>]"
      ]
     },
     "execution_count": 227,
     "metadata": {},
     "output_type": "execute_result"
    },
    {
     "data": {
      "image/png": "[encoded data removed]",
      "text/plain": [
       "<Figure size 432x288 with 1 Axes>"
      ]
     },
     "metadata": {
      "needs_background": "light"
     },
     "output_type": "display_data"
    }
   ],
   "source": [
    "plt.scatter(theta[0:end], voltage[0:end])\n",
    "plt.plot(values, y_)"
   ]
  }
 ],
 "metadata": {
  "kernelspec": {
   "display_name": "Python 3 (ipykernel)",
   "language": "python",
   "name": "python3"
  },
  "language_info": {
   "codemirror_mode": {
    "name": "ipython",
    "version": 3
   },
   "file_extension": ".py",
   "mimetype": "text/x-python",
   "name": "python",
   "nbconvert_exporter": "python",
   "pygments_lexer": "ipython3",
   "version": "3.9.7"
  }
 },
 "nbformat": 4,
 "nbformat_minor": 5
}
