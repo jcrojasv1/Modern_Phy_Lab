{
 "cells": [
  {
   "cell_type": "code",
   "execution_count": 278,
   "id": "fe4d0ef9",
   "metadata": {},
   "outputs": [],
   "source": [
    "import sympy as sym\n",
    "import numpy as np\n",
    "import matplotlib.pyplot as plt"
   ]
  },
  {
   "cell_type": "code",
   "execution_count": 279,
   "id": "eb4b8795",
   "metadata": {},
   "outputs": [],
   "source": [
    "R,L,C,omega,Vi,Vd = sym.symbols(\"R L C omega V_{in} V_d\",real=True)\n",
    "j = sym.I"
   ]
  },
  {
   "cell_type": "code",
   "execution_count": 280,
   "id": "24dd50d5",
   "metadata": {},
   "outputs": [],
   "source": [
    "Z1 = R + 1/(j*omega*C)"
   ]
  },
  {
   "cell_type": "code",
   "execution_count": 281,
   "id": "02174487",
   "metadata": {},
   "outputs": [
    {
     "data": {
      "text/latex": [
       "$\\displaystyle \\frac{C R \\omega - i}{C R \\omega \\left(i \\left(C R \\omega - i\\right) + 1\\right) + C R \\omega - i}$"
      ],
      "text/plain": [
       "(C*R*omega - I)/(C*R*omega*(I*(C*R*omega - I) + 1) + C*R*omega - I)"
      ]
     },
     "execution_count": 281,
     "metadata": {},
     "output_type": "execute_result"
    }
   ],
   "source": [
    "Z2 = 1/(j*omega*C+1/Z1)\n",
    "sym.simplify(Z2/(R + Z2))"
   ]
  },
  {
   "cell_type": "code",
   "execution_count": 282,
   "id": "aea69a68",
   "metadata": {},
   "outputs": [
    {
     "data": {
      "text/latex": [
       "$\\displaystyle \\frac{V_{in} \\left(C R \\omega - i\\right)}{C R \\omega \\left(i \\left(C R \\omega - i\\right) + 1\\right) + C R \\omega - i}$"
      ],
      "text/plain": [
       "V_{in}*(C*R*omega - I)/(C*R*omega*(I*(C*R*omega - I) + 1) + C*R*omega - I)"
      ]
     },
     "execution_count": 282,
     "metadata": {},
     "output_type": "execute_result"
    }
   ],
   "source": [
    "T = sym.simplify(Z2/(R + Z2)*Vi)\n",
    "T"
   ]
  },
  {
   "cell_type": "code",
   "execution_count": 283,
   "id": "f31da846",
   "metadata": {},
   "outputs": [],
   "source": [
    "exp = Vi - T -2*j*omega*R*C*T+j*omega*R*C*Vd\n"
   ]
  },
  {
   "cell_type": "code",
   "execution_count": 284,
   "id": "e008eca9",
   "metadata": {},
   "outputs": [],
   "source": [
    "Vd = sym.solve(Vi - T -2*j*omega*R*C*T+j*omega*R*C*Vd,Vd)"
   ]
  },
  {
   "cell_type": "code",
   "execution_count": 285,
   "id": "ed5554f9",
   "metadata": {},
   "outputs": [
    {
     "data": {
      "text/plain": [
       "{V_d: 3*C**2*R**2*V_{in}*omega**2/(C**4*R**4*omega**4 + 7*C**2*R**2*omega**2 + 1)}"
      ]
     },
     "execution_count": 285,
     "metadata": {},
     "output_type": "execute_result"
    }
   ],
   "source": [
    "Vd"
   ]
  },
  {
   "cell_type": "code",
   "execution_count": 286,
   "id": "f6dd5001",
   "metadata": {},
   "outputs": [],
   "source": [
    "k = 0\n",
    "for i in Vd.keys():\n",
    "    k = Vd[i]"
   ]
  },
  {
   "cell_type": "code",
   "execution_count": 287,
   "id": "a40a8184",
   "metadata": {},
   "outputs": [
    {
     "data": {
      "text/latex": [
       "$\\displaystyle \\frac{3 C^{2} R^{2} V_{in} \\omega^{2}}{C^{4} R^{4} \\omega^{4} + 7 C^{2} R^{2} \\omega^{2} + 1}$"
      ],
      "text/plain": [
       "3*C**2*R**2*V_{in}*omega**2/(C**4*R**4*omega**4 + 7*C**2*R**2*omega**2 + 1)"
      ]
     },
     "execution_count": 287,
     "metadata": {},
     "output_type": "execute_result"
    }
   ],
   "source": [
    "k"
   ]
  },
  {
   "cell_type": "code",
   "execution_count": 288,
   "id": "3ec7f7d9",
   "metadata": {},
   "outputs": [
    {
     "data": {
      "text/latex": [
       "$\\displaystyle \\frac{V_{in} \\left(2 i C^{2} R^{2} \\omega^{2} + 3 C R \\omega + i R \\left(- C^{2} R^{2} \\omega^{2} + 3 i C R \\omega + 1\\right) - i\\right)}{C R \\omega \\left(- C^{2} R^{2} \\omega^{2} + 3 i C R \\omega + 1\\right)}$"
      ],
      "text/plain": [
       "V_{in}*(2*I*C**2*R**2*omega**2 + 3*C*R*omega + I*R*(-C**2*R**2*omega**2 + 3*I*C*R*omega + 1) - I)/(C*R*omega*(-C**2*R**2*omega**2 + 3*I*C*R*omega + 1))"
      ]
     },
     "execution_count": 288,
     "metadata": {},
     "output_type": "execute_result"
    }
   ],
   "source": [
    "sym.simplify(sym.expand((1+2*j*omega*R*C)*(1+j*omega*R*C)/((j*omega*R*C)*(1+3*j*omega*R*C-omega**2 * R**2 * C**2))*Vi - Vi/(j*omega*C)))"
   ]
  },
  {
   "cell_type": "code",
   "execution_count": 289,
   "id": "6163c44a",
   "metadata": {},
   "outputs": [
    {
     "data": {
      "text/plain": [
       "[-I*sqrt(3 - 2*sqrt(2))/(C*R),\n",
       " I*sqrt(3 - 2*sqrt(2))/(C*R),\n",
       " -I*sqrt(2*sqrt(2) + 3)/(C*R),\n",
       " I*sqrt(2*sqrt(2) + 3)/(C*R)]"
      ]
     },
     "execution_count": 289,
     "metadata": {},
     "output_type": "execute_result"
    }
   ],
   "source": [
    "sym.solve(k/3 - Vi,omega)"
   ]
  },
  {
   "cell_type": "code",
   "execution_count": 290,
   "id": "ac45ddaa",
   "metadata": {},
   "outputs": [],
   "source": [
    "R,C,Vi = 10e3,100e-9,5\n",
    "freq = np.linspace(0,1000)\n",
    "omega = 2*np.pi*freq"
   ]
  },
  {
   "cell_type": "code",
   "execution_count": 291,
   "id": "5a6f1689",
   "metadata": {},
   "outputs": [],
   "source": [
    "V_D = 3*omega*R*C/np.sqrt((1-omega**2 *R**2* C**2)**2 + (3*omega*R*C)**2)"
   ]
  },
  {
   "cell_type": "code",
   "execution_count": 292,
   "id": "bdc8c78d",
   "metadata": {},
   "outputs": [
    {
     "data": {
      "text/plain": [
       "<matplotlib.collections.LineCollection at 0x1b34c009f70>"
      ]
     },
     "execution_count": 292,
     "metadata": {},
     "output_type": "execute_result"
    },
    {
     "data": {
      "image/png": "[encoded data removed]",
      "text/plain": [
       "<Figure size 640x480 with 1 Axes>"
      ]
     },
     "metadata": {},
     "output_type": "display_data"
    }
   ],
   "source": [
    "plt.plot(freq,V_D)\n",
    "plt.vlines(159.154,0,1)"
   ]
  },
  {
   "cell_type": "code",
   "execution_count": 293,
   "id": "1456cfb1",
   "metadata": {},
   "outputs": [
    {
     "data": {
      "text/plain": [
       "-795.7747154594769"
      ]
     },
     "execution_count": 293,
     "metadata": {},
     "output_type": "execute_result"
    }
   ],
   "source": [
    "0.19258/(2*np.pi*R*C) - 5.19258/(2*np.pi*R*C)"
   ]
  },
  {
   "cell_type": "code",
   "execution_count": 294,
   "id": "d07cddf5",
   "metadata": {},
   "outputs": [
    {
     "ename": "TypeError",
     "evalue": "unsupported operand type(s) for -: 'Add' and 'dict'",
     "output_type": "error",
     "traceback": [
      "\u001b[1;31m---------------------------------------------------------------------------\u001b[0m",
      "\u001b[1;31mTypeError\u001b[0m                                 Traceback (most recent call last)",
      "\u001b[1;32m~\\AppData\\Local\\Temp\\ipykernel_20172\\3043118903.py\u001b[0m in \u001b[0;36m<module>\u001b[1;34m\u001b[0m\n\u001b[1;32m----> 1\u001b[1;33m \u001b[0mVd\u001b[0m \u001b[1;33m=\u001b[0m \u001b[0msym\u001b[0m\u001b[1;33m.\u001b[0m\u001b[0msolve\u001b[0m\u001b[1;33m(\u001b[0m\u001b[1;33m(\u001b[0m\u001b[1;36m1\u001b[0m \u001b[1;33m+\u001b[0m \u001b[0mj\u001b[0m\u001b[1;33m*\u001b[0m\u001b[0momega\u001b[0m\u001b[1;33m*\u001b[0m\u001b[0mR\u001b[0m\u001b[1;33m*\u001b[0m\u001b[0mC\u001b[0m\u001b[1;33m)\u001b[0m\u001b[1;33m/\u001b[0m\u001b[1;33m(\u001b[0m\u001b[0mj\u001b[0m\u001b[1;33m*\u001b[0m\u001b[0momega\u001b[0m\u001b[1;33m*\u001b[0m\u001b[0mR\u001b[0m\u001b[1;33m*\u001b[0m\u001b[0mC\u001b[0m\u001b[1;33m)\u001b[0m\u001b[1;33m*\u001b[0m\u001b[0mT\u001b[0m \u001b[1;33m-\u001b[0m \u001b[0mVi\u001b[0m\u001b[1;33m/\u001b[0m\u001b[1;33m(\u001b[0m\u001b[0mj\u001b[0m\u001b[1;33m*\u001b[0m\u001b[0momega\u001b[0m\u001b[1;33m*\u001b[0m\u001b[0mR\u001b[0m\u001b[1;33m*\u001b[0m\u001b[0mC\u001b[0m\u001b[1;33m)\u001b[0m \u001b[1;33m-\u001b[0m \u001b[0mVd\u001b[0m\u001b[1;33m,\u001b[0m\u001b[0mVd\u001b[0m\u001b[1;33m)\u001b[0m\u001b[1;33m\u001b[0m\u001b[1;33m\u001b[0m\u001b[0m\n\u001b[0m",
      "\u001b[1;31mTypeError\u001b[0m: unsupported operand type(s) for -: 'Add' and 'dict'"
     ]
    }
   ],
   "source": [
    "Vd = sym.solve((1 + j*omega*R*C)/(j*omega*R*C)*T - Vi/(j*omega*R*C) - Vd,Vd)"
   ]
  },
  {
   "cell_type": "code",
   "execution_count": 295,
   "id": "cd1e7e37",
   "metadata": {},
   "outputs": [
    {
     "data": {
      "text/latex": [
       "$\\displaystyle \\frac{3 C^{2} R^{2} V_{in} \\omega^{2}}{C^{4} R^{4} \\omega^{4} + 7 C^{2} R^{2} \\omega^{2} + 1}$"
      ],
      "text/plain": [
       "3*C**2*R**2*V_{in}*omega**2/(C**4*R**4*omega**4 + 7*C**2*R**2*omega**2 + 1)"
      ]
     },
     "execution_count": 295,
     "metadata": {},
     "output_type": "execute_result"
    }
   ],
   "source": [
    "k = 0\n",
    "for i in Vd.keys():\n",
    "    k = Vd[i]\n",
    "\n",
    "k"
   ]
  },
  {
   "cell_type": "code",
   "execution_count": null,
   "id": "da425d8c",
   "metadata": {},
   "outputs": [],
   "source": []
  },
  {
   "cell_type": "code",
   "execution_count": 277,
   "id": "869e1e02",
   "metadata": {},
   "outputs": [
    {
     "data": {
      "text/latex": [
       "$\\displaystyle - C^{2} R^{2} \\omega^{2}$"
      ],
      "text/plain": [
       "-C**2*R**2*omega**2"
      ]
     },
     "execution_count": 277,
     "metadata": {},
     "output_type": "execute_result"
    }
   ],
   "source": [
    "sym.expand((1 +2*j*omega*R*C)*(1+j*omega*R*C)) - (1 +3*j*omega*R*C-omega**2*R**2*C**2)"
   ]
  },
  {
   "cell_type": "code",
   "execution_count": null,
   "id": "bd3a1161",
   "metadata": {},
   "outputs": [],
   "source": []
  }
 ],
 "metadata": {
  "kernelspec": {
   "display_name": "Python 3 (ipykernel)",
   "language": "python",
   "name": "python3"
  },
  "language_info": {
   "codemirror_mode": {
    "name": "ipython",
    "version": 3
   },
   "file_extension": ".py",
   "mimetype": "text/x-python",
   "name": "python",
   "nbconvert_exporter": "python",
   "pygments_lexer": "ipython3",
   "version": "3.9.13"
  }
 },
 "nbformat": 4,
 "nbformat_minor": 5
}
